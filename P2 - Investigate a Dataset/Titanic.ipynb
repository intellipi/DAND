{
 "cells": [
  {
   "cell_type": "markdown",
   "metadata": {},
   "source": [
    "# P2: INVESTIGATE A DATASET\n",
    "<p>\n",
    "## PROJECT: TITANIC\n",
    "***"
   ]
  },
  {
   "cell_type": "markdown",
   "metadata": {},
   "source": [
    "## Introduction\n",
    "\n",
    "The current project addresses the question of if, in life/death situations, common ethical standards as \"women and children first\" are respected and if people travelling with relatives are more prone to survive than solo travellers.\n",
    "\n",
    "The reasons leading to a higher or lower survival rate (causations) are beyond the scope of this work.\n",
    "\n",
    "To develop this work, the Titanic demographics information from 891 of the 2224 passengers and crew on board were used. The dataset was obtained in csv format from [this link](https://d17h27t6h515a5.cloudfront.net/topher/2016/September/57e9a84c_titanic-data/titanic-data.csv) and the variable descriptions could be found at [Kaggle](https://www.kaggle.com/c/titanic/data) website (dec. 26th 2016).<p>"
   ]
  },
  {
   "cell_type": "markdown",
   "metadata": {},
   "source": [
    "***\n",
    "## Question Statements\n",
    "\n",
    "\n",
    "The project addresses the following questions to be answered: \n",
    "\n",
    "* Did gender influence survival rate?\n",
    "\n",
    "* Did adulthood influence survival rate?\n",
    "\n",
    "* Did family members' survival rate differ from those travelling solo?\n",
    "\n",
    "* Did children presence in a family influence its members survival rate?"
   ]
  },
  {
   "cell_type": "markdown",
   "metadata": {},
   "source": [
    "***\n",
    "## Assumptions\n",
    "\n",
    "* Data about the 891 passengers was randomly selected out of 2224 total passengers;\n",
    "\n",
    "* To determine family relations:\n",
    "    - Same surname\n",
    "    - Same fare class\n",
    "    - Coincidences were ignored\n",
    "\n",
    "\n",
    "* Adults: > 10 years of age\n",
    "* Children: <= 10 years of age\n",
    "\n",
    "The childhood age limit was arbitrarily selected as the maximum age an individual could be perceived as a child worth saving above others using the \"women and children first\" criteria, not the legal age. "
   ]
  },
  {
   "cell_type": "markdown",
   "metadata": {},
   "source": [
    "***\n",
    "## Special Notes\n",
    "\n",
    "Pclass is a proxy for socio-economic status (SES)\n",
    " 1st ~ Upper; 2nd ~ Middle; 3rd ~ Lower\n",
    "\n",
    "Age is in Years; Fractional if Age less than One (1)\n",
    " If the Age is Estimated, it is in the form xx.5\n",
    "\n",
    "With respect to the family relation variables (i.e. sibsp and parch)\n",
    "some relations were ignored.  The following are the definitions used\n",
    "for sibsp and parch.\n",
    "\n",
    "Sibling:  Brother, Sister, Stepbrother, or Stepsister of Passenger Aboard Titanic\n",
    "Spouse:   Husband or Wife of Passenger Aboard Titanic (Mistresses and Fiances Ignored)\n",
    "Parent:   Mother or Father of Passenger Aboard Titanic\n",
    "Child:    Son, Daughter, Stepson, or Stepdaughter of Passenger Aboard Titanic\n",
    "\n",
    "Other family relatives excluded from this study include cousins,\n",
    "nephews/nieces, aunts/uncles, and in-laws.  Some children travelled\n",
    "only with a nanny, therefore parch=0 for them.  As well, some\n",
    "travelled with very close friends or neighbors in a village, however,\n",
    "the definitions do not support such relations.\n",
    "\n",
    "###### Source: [Kaggle](https://www.kaggle.com/c/titanic/data) website."
   ]
  },
  {
   "cell_type": "markdown",
   "metadata": {},
   "source": [
    "***\n",
    "## Step 1: Data Wrangling"
   ]
  },
  {
   "cell_type": "code",
   "execution_count": 1,
   "metadata": {},
   "outputs": [],
   "source": [
    "import numpy as np\n",
    "import pandas as pd\n",
    "import matplotlib.pyplot as plt\n",
    "import seaborn as sns\n",
    "\n",
    "titanic_df = pd.read_csv('titanic-data.csv')"
   ]
  },
  {
   "cell_type": "code",
   "execution_count": 2,
   "metadata": {},
   "outputs": [
    {
     "data": {
      "text/html": [
       "<div>\n",
       "<table border=\"1\" class=\"dataframe\">\n",
       "  <thead>\n",
       "    <tr style=\"text-align: right;\">\n",
       "      <th></th>\n",
       "      <th>PassengerId</th>\n",
       "      <th>Survived</th>\n",
       "      <th>Pclass</th>\n",
       "      <th>Name</th>\n",
       "      <th>Sex</th>\n",
       "      <th>Age</th>\n",
       "      <th>SibSp</th>\n",
       "      <th>Parch</th>\n",
       "      <th>Ticket</th>\n",
       "      <th>Fare</th>\n",
       "      <th>Cabin</th>\n",
       "      <th>Embarked</th>\n",
       "    </tr>\n",
       "  </thead>\n",
       "  <tbody>\n",
       "    <tr>\n",
       "      <th>0</th>\n",
       "      <td>1</td>\n",
       "      <td>0</td>\n",
       "      <td>3</td>\n",
       "      <td>Braund, Mr. Owen Harris</td>\n",
       "      <td>male</td>\n",
       "      <td>22.0</td>\n",
       "      <td>1</td>\n",
       "      <td>0</td>\n",
       "      <td>A/5 21171</td>\n",
       "      <td>7.2500</td>\n",
       "      <td>NaN</td>\n",
       "      <td>S</td>\n",
       "    </tr>\n",
       "    <tr>\n",
       "      <th>1</th>\n",
       "      <td>2</td>\n",
       "      <td>1</td>\n",
       "      <td>1</td>\n",
       "      <td>Cumings, Mrs. John Bradley (Florence Briggs Th...</td>\n",
       "      <td>female</td>\n",
       "      <td>38.0</td>\n",
       "      <td>1</td>\n",
       "      <td>0</td>\n",
       "      <td>PC 17599</td>\n",
       "      <td>71.2833</td>\n",
       "      <td>C85</td>\n",
       "      <td>C</td>\n",
       "    </tr>\n",
       "    <tr>\n",
       "      <th>2</th>\n",
       "      <td>3</td>\n",
       "      <td>1</td>\n",
       "      <td>3</td>\n",
       "      <td>Heikkinen, Miss. Laina</td>\n",
       "      <td>female</td>\n",
       "      <td>26.0</td>\n",
       "      <td>0</td>\n",
       "      <td>0</td>\n",
       "      <td>STON/O2. 3101282</td>\n",
       "      <td>7.9250</td>\n",
       "      <td>NaN</td>\n",
       "      <td>S</td>\n",
       "    </tr>\n",
       "    <tr>\n",
       "      <th>3</th>\n",
       "      <td>4</td>\n",
       "      <td>1</td>\n",
       "      <td>1</td>\n",
       "      <td>Futrelle, Mrs. Jacques Heath (Lily May Peel)</td>\n",
       "      <td>female</td>\n",
       "      <td>35.0</td>\n",
       "      <td>1</td>\n",
       "      <td>0</td>\n",
       "      <td>113803</td>\n",
       "      <td>53.1000</td>\n",
       "      <td>C123</td>\n",
       "      <td>S</td>\n",
       "    </tr>\n",
       "    <tr>\n",
       "      <th>4</th>\n",
       "      <td>5</td>\n",
       "      <td>0</td>\n",
       "      <td>3</td>\n",
       "      <td>Allen, Mr. William Henry</td>\n",
       "      <td>male</td>\n",
       "      <td>35.0</td>\n",
       "      <td>0</td>\n",
       "      <td>0</td>\n",
       "      <td>373450</td>\n",
       "      <td>8.0500</td>\n",
       "      <td>NaN</td>\n",
       "      <td>S</td>\n",
       "    </tr>\n",
       "  </tbody>\n",
       "</table>\n",
       "</div>"
      ],
      "text/plain": [
       "   PassengerId  Survived  Pclass  \\\n",
       "0            1         0       3   \n",
       "1            2         1       1   \n",
       "2            3         1       3   \n",
       "3            4         1       1   \n",
       "4            5         0       3   \n",
       "\n",
       "                                                Name     Sex   Age  SibSp  \\\n",
       "0                            Braund, Mr. Owen Harris    male  22.0      1   \n",
       "1  Cumings, Mrs. John Bradley (Florence Briggs Th...  female  38.0      1   \n",
       "2                             Heikkinen, Miss. Laina  female  26.0      0   \n",
       "3       Futrelle, Mrs. Jacques Heath (Lily May Peel)  female  35.0      1   \n",
       "4                           Allen, Mr. William Henry    male  35.0      0   \n",
       "\n",
       "   Parch            Ticket     Fare Cabin Embarked  \n",
       "0      0         A/5 21171   7.2500   NaN        S  \n",
       "1      0          PC 17599  71.2833   C85        C  \n",
       "2      0  STON/O2. 3101282   7.9250   NaN        S  \n",
       "3      0            113803  53.1000  C123        S  \n",
       "4      0            373450   8.0500   NaN        S  "
      ]
     },
     "execution_count": 2,
     "metadata": {},
     "output_type": "execute_result"
    }
   ],
   "source": [
    "titanic_df.head()"
   ]
  },
  {
   "cell_type": "code",
   "execution_count": 3,
   "metadata": {},
   "outputs": [
    {
     "name": "stderr",
     "output_type": "stream",
     "text": [
      "/Users/Daniel/anaconda/lib/python2.7/site-packages/numpy/lib/function_base.py:3834: RuntimeWarning: Invalid value encountered in percentile\n",
      "  RuntimeWarning)\n"
     ]
    },
    {
     "data": {
      "text/html": [
       "<div>\n",
       "<table border=\"1\" class=\"dataframe\">\n",
       "  <thead>\n",
       "    <tr style=\"text-align: right;\">\n",
       "      <th></th>\n",
       "      <th>PassengerId</th>\n",
       "      <th>Survived</th>\n",
       "      <th>Pclass</th>\n",
       "      <th>Age</th>\n",
       "      <th>SibSp</th>\n",
       "      <th>Parch</th>\n",
       "      <th>Fare</th>\n",
       "    </tr>\n",
       "  </thead>\n",
       "  <tbody>\n",
       "    <tr>\n",
       "      <th>count</th>\n",
       "      <td>891.000000</td>\n",
       "      <td>891.000000</td>\n",
       "      <td>891.000000</td>\n",
       "      <td>714.000000</td>\n",
       "      <td>891.000000</td>\n",
       "      <td>891.000000</td>\n",
       "      <td>891.000000</td>\n",
       "    </tr>\n",
       "    <tr>\n",
       "      <th>mean</th>\n",
       "      <td>446.000000</td>\n",
       "      <td>0.383838</td>\n",
       "      <td>2.308642</td>\n",
       "      <td>29.699118</td>\n",
       "      <td>0.523008</td>\n",
       "      <td>0.381594</td>\n",
       "      <td>32.204208</td>\n",
       "    </tr>\n",
       "    <tr>\n",
       "      <th>std</th>\n",
       "      <td>257.353842</td>\n",
       "      <td>0.486592</td>\n",
       "      <td>0.836071</td>\n",
       "      <td>14.526497</td>\n",
       "      <td>1.102743</td>\n",
       "      <td>0.806057</td>\n",
       "      <td>49.693429</td>\n",
       "    </tr>\n",
       "    <tr>\n",
       "      <th>min</th>\n",
       "      <td>1.000000</td>\n",
       "      <td>0.000000</td>\n",
       "      <td>1.000000</td>\n",
       "      <td>0.420000</td>\n",
       "      <td>0.000000</td>\n",
       "      <td>0.000000</td>\n",
       "      <td>0.000000</td>\n",
       "    </tr>\n",
       "    <tr>\n",
       "      <th>25%</th>\n",
       "      <td>223.500000</td>\n",
       "      <td>0.000000</td>\n",
       "      <td>2.000000</td>\n",
       "      <td>NaN</td>\n",
       "      <td>0.000000</td>\n",
       "      <td>0.000000</td>\n",
       "      <td>7.910400</td>\n",
       "    </tr>\n",
       "    <tr>\n",
       "      <th>50%</th>\n",
       "      <td>446.000000</td>\n",
       "      <td>0.000000</td>\n",
       "      <td>3.000000</td>\n",
       "      <td>NaN</td>\n",
       "      <td>0.000000</td>\n",
       "      <td>0.000000</td>\n",
       "      <td>14.454200</td>\n",
       "    </tr>\n",
       "    <tr>\n",
       "      <th>75%</th>\n",
       "      <td>668.500000</td>\n",
       "      <td>1.000000</td>\n",
       "      <td>3.000000</td>\n",
       "      <td>NaN</td>\n",
       "      <td>1.000000</td>\n",
       "      <td>0.000000</td>\n",
       "      <td>31.000000</td>\n",
       "    </tr>\n",
       "    <tr>\n",
       "      <th>max</th>\n",
       "      <td>891.000000</td>\n",
       "      <td>1.000000</td>\n",
       "      <td>3.000000</td>\n",
       "      <td>80.000000</td>\n",
       "      <td>8.000000</td>\n",
       "      <td>6.000000</td>\n",
       "      <td>512.329200</td>\n",
       "    </tr>\n",
       "  </tbody>\n",
       "</table>\n",
       "</div>"
      ],
      "text/plain": [
       "       PassengerId    Survived      Pclass         Age       SibSp  \\\n",
       "count   891.000000  891.000000  891.000000  714.000000  891.000000   \n",
       "mean    446.000000    0.383838    2.308642   29.699118    0.523008   \n",
       "std     257.353842    0.486592    0.836071   14.526497    1.102743   \n",
       "min       1.000000    0.000000    1.000000    0.420000    0.000000   \n",
       "25%     223.500000    0.000000    2.000000         NaN    0.000000   \n",
       "50%     446.000000    0.000000    3.000000         NaN    0.000000   \n",
       "75%     668.500000    1.000000    3.000000         NaN    1.000000   \n",
       "max     891.000000    1.000000    3.000000   80.000000    8.000000   \n",
       "\n",
       "            Parch        Fare  \n",
       "count  891.000000  891.000000  \n",
       "mean     0.381594   32.204208  \n",
       "std      0.806057   49.693429  \n",
       "min      0.000000    0.000000  \n",
       "25%      0.000000    7.910400  \n",
       "50%      0.000000   14.454200  \n",
       "75%      0.000000   31.000000  \n",
       "max      6.000000  512.329200  "
      ]
     },
     "execution_count": 3,
     "metadata": {},
     "output_type": "execute_result"
    }
   ],
   "source": [
    "titanic_df.describe()"
   ]
  },
  {
   "cell_type": "markdown",
   "metadata": {},
   "source": [
    "The first important information to notice is that 'Age' has several missing values. As it's an important information in our analysis, we may either disconsider those missing cases or match with an external database to fill those gaps.\n",
    "\n",
    "For this project, we will disconsider these rows in which 'age' is missing."
   ]
  },
  {
   "cell_type": "code",
   "execution_count": 4,
   "metadata": {},
   "outputs": [],
   "source": [
    "titanic_df_filtered = titanic_df[titanic_df['Age']>0]"
   ]
  },
  {
   "cell_type": "code",
   "execution_count": 5,
   "metadata": {},
   "outputs": [
    {
     "data": {
      "text/html": [
       "<div>\n",
       "<table border=\"1\" class=\"dataframe\">\n",
       "  <thead>\n",
       "    <tr style=\"text-align: right;\">\n",
       "      <th></th>\n",
       "      <th>PassengerId</th>\n",
       "      <th>Survived</th>\n",
       "      <th>Pclass</th>\n",
       "      <th>Age</th>\n",
       "      <th>SibSp</th>\n",
       "      <th>Parch</th>\n",
       "      <th>Fare</th>\n",
       "    </tr>\n",
       "  </thead>\n",
       "  <tbody>\n",
       "    <tr>\n",
       "      <th>count</th>\n",
       "      <td>714.000000</td>\n",
       "      <td>714.000000</td>\n",
       "      <td>714.000000</td>\n",
       "      <td>714.000000</td>\n",
       "      <td>714.000000</td>\n",
       "      <td>714.000000</td>\n",
       "      <td>714.000000</td>\n",
       "    </tr>\n",
       "    <tr>\n",
       "      <th>mean</th>\n",
       "      <td>448.582633</td>\n",
       "      <td>0.406162</td>\n",
       "      <td>2.236695</td>\n",
       "      <td>29.699118</td>\n",
       "      <td>0.512605</td>\n",
       "      <td>0.431373</td>\n",
       "      <td>34.694514</td>\n",
       "    </tr>\n",
       "    <tr>\n",
       "      <th>std</th>\n",
       "      <td>259.119524</td>\n",
       "      <td>0.491460</td>\n",
       "      <td>0.838250</td>\n",
       "      <td>14.526497</td>\n",
       "      <td>0.929783</td>\n",
       "      <td>0.853289</td>\n",
       "      <td>52.918930</td>\n",
       "    </tr>\n",
       "    <tr>\n",
       "      <th>min</th>\n",
       "      <td>1.000000</td>\n",
       "      <td>0.000000</td>\n",
       "      <td>1.000000</td>\n",
       "      <td>0.420000</td>\n",
       "      <td>0.000000</td>\n",
       "      <td>0.000000</td>\n",
       "      <td>0.000000</td>\n",
       "    </tr>\n",
       "    <tr>\n",
       "      <th>25%</th>\n",
       "      <td>222.250000</td>\n",
       "      <td>0.000000</td>\n",
       "      <td>1.000000</td>\n",
       "      <td>20.125000</td>\n",
       "      <td>0.000000</td>\n",
       "      <td>0.000000</td>\n",
       "      <td>8.050000</td>\n",
       "    </tr>\n",
       "    <tr>\n",
       "      <th>50%</th>\n",
       "      <td>445.000000</td>\n",
       "      <td>0.000000</td>\n",
       "      <td>2.000000</td>\n",
       "      <td>28.000000</td>\n",
       "      <td>0.000000</td>\n",
       "      <td>0.000000</td>\n",
       "      <td>15.741700</td>\n",
       "    </tr>\n",
       "    <tr>\n",
       "      <th>75%</th>\n",
       "      <td>677.750000</td>\n",
       "      <td>1.000000</td>\n",
       "      <td>3.000000</td>\n",
       "      <td>38.000000</td>\n",
       "      <td>1.000000</td>\n",
       "      <td>1.000000</td>\n",
       "      <td>33.375000</td>\n",
       "    </tr>\n",
       "    <tr>\n",
       "      <th>max</th>\n",
       "      <td>891.000000</td>\n",
       "      <td>1.000000</td>\n",
       "      <td>3.000000</td>\n",
       "      <td>80.000000</td>\n",
       "      <td>5.000000</td>\n",
       "      <td>6.000000</td>\n",
       "      <td>512.329200</td>\n",
       "    </tr>\n",
       "  </tbody>\n",
       "</table>\n",
       "</div>"
      ],
      "text/plain": [
       "       PassengerId    Survived      Pclass         Age       SibSp  \\\n",
       "count   714.000000  714.000000  714.000000  714.000000  714.000000   \n",
       "mean    448.582633    0.406162    2.236695   29.699118    0.512605   \n",
       "std     259.119524    0.491460    0.838250   14.526497    0.929783   \n",
       "min       1.000000    0.000000    1.000000    0.420000    0.000000   \n",
       "25%     222.250000    0.000000    1.000000   20.125000    0.000000   \n",
       "50%     445.000000    0.000000    2.000000   28.000000    0.000000   \n",
       "75%     677.750000    1.000000    3.000000   38.000000    1.000000   \n",
       "max     891.000000    1.000000    3.000000   80.000000    5.000000   \n",
       "\n",
       "            Parch        Fare  \n",
       "count  714.000000  714.000000  \n",
       "mean     0.431373   34.694514  \n",
       "std      0.853289   52.918930  \n",
       "min      0.000000    0.000000  \n",
       "25%      0.000000    8.050000  \n",
       "50%      0.000000   15.741700  \n",
       "75%      1.000000   33.375000  \n",
       "max      6.000000  512.329200  "
      ]
     },
     "execution_count": 5,
     "metadata": {},
     "output_type": "execute_result"
    }
   ],
   "source": [
    "titanic_df_filtered.describe()"
   ]
  },
  {
   "cell_type": "markdown",
   "metadata": {},
   "source": [
    "All descriptive statistics, on an aggregated level, seem OK:\n",
    "\n",
    "* `Age` range from 0.42 years to 80 years old;\n",
    "* `Survived` is either 0 or 1 (boolean)\n",
    "* `SibSp` (number of siblings and spouses aboard) range from 0 to 5\n",
    "* `Parch` (number of parents and children aboard) range from 0 to 6\n",
    "* All passengers belong to `Pclass` 1-3 (1st to 3rd class), which means the crew is not included in this dataset. This is good news, as crew members should be excluded from the analysis to avoid distorting the results (they usually don't bring relatives or children aboard and have a different level of commitment to the ship in a disaster situation than paying passengers)."
   ]
  },
  {
   "cell_type": "markdown",
   "metadata": {},
   "source": [
    "For now, only numeric and boolean variables were analysed. We still need to check the consistency of string variable `Sex`\n",
    "\n"
   ]
  },
  {
   "cell_type": "code",
   "execution_count": 6,
   "metadata": {},
   "outputs": [
    {
     "data": {
      "text/html": [
       "<div>\n",
       "<table border=\"1\" class=\"dataframe\">\n",
       "  <thead>\n",
       "    <tr style=\"text-align: right;\">\n",
       "      <th></th>\n",
       "      <th>PassengerId</th>\n",
       "      <th>Survived</th>\n",
       "      <th>Pclass</th>\n",
       "      <th>Name</th>\n",
       "      <th>Age</th>\n",
       "      <th>SibSp</th>\n",
       "      <th>Parch</th>\n",
       "      <th>Ticket</th>\n",
       "      <th>Fare</th>\n",
       "      <th>Cabin</th>\n",
       "      <th>Embarked</th>\n",
       "    </tr>\n",
       "    <tr>\n",
       "      <th>Sex</th>\n",
       "      <th></th>\n",
       "      <th></th>\n",
       "      <th></th>\n",
       "      <th></th>\n",
       "      <th></th>\n",
       "      <th></th>\n",
       "      <th></th>\n",
       "      <th></th>\n",
       "      <th></th>\n",
       "      <th></th>\n",
       "      <th></th>\n",
       "    </tr>\n",
       "  </thead>\n",
       "  <tbody>\n",
       "    <tr>\n",
       "      <th>female</th>\n",
       "      <td>261</td>\n",
       "      <td>261</td>\n",
       "      <td>261</td>\n",
       "      <td>261</td>\n",
       "      <td>261</td>\n",
       "      <td>261</td>\n",
       "      <td>261</td>\n",
       "      <td>261</td>\n",
       "      <td>261</td>\n",
       "      <td>90</td>\n",
       "      <td>259</td>\n",
       "    </tr>\n",
       "    <tr>\n",
       "      <th>male</th>\n",
       "      <td>453</td>\n",
       "      <td>453</td>\n",
       "      <td>453</td>\n",
       "      <td>453</td>\n",
       "      <td>453</td>\n",
       "      <td>453</td>\n",
       "      <td>453</td>\n",
       "      <td>453</td>\n",
       "      <td>453</td>\n",
       "      <td>95</td>\n",
       "      <td>453</td>\n",
       "    </tr>\n",
       "  </tbody>\n",
       "</table>\n",
       "</div>"
      ],
      "text/plain": [
       "        PassengerId  Survived  Pclass  Name  Age  SibSp  Parch  Ticket  Fare  \\\n",
       "Sex                                                                            \n",
       "female          261       261     261   261  261    261    261     261   261   \n",
       "male            453       453     453   453  453    453    453     453   453   \n",
       "\n",
       "        Cabin  Embarked  \n",
       "Sex                      \n",
       "female     90       259  \n",
       "male       95       453  "
      ]
     },
     "execution_count": 6,
     "metadata": {},
     "output_type": "execute_result"
    }
   ],
   "source": [
    "titanic_df_filtered_groupby_sex = titanic_df_filtered.groupby(['Sex'])\n",
    "\n",
    "titanic_df_filtered_groupby_sex.count()  "
   ]
  },
  {
   "cell_type": "markdown",
   "metadata": {},
   "source": [
    "Gender data seems ok. No sex or missing value other than 'male' and 'female'. <p>\n",
    "The proportion is ok too (36.5% female passengers), in line with 35.5% female passengers in Encyclopedia Titanica ([female passengers](https://www.encyclopedia-titanica.org/titanic-female-passengers/); \n",
    "[male passengers](https://www.encyclopedia-titanica.org/titanic-male-passengers/))"
   ]
  },
  {
   "cell_type": "markdown",
   "metadata": {},
   "source": [
    "***\n",
    "## Step 2: Data Transformation"
   ]
  },
  {
   "cell_type": "markdown",
   "metadata": {},
   "source": [
    "To accomplish our analysis, the first transformation is to split the surname from the given names and titles, as to aggregate family members together."
   ]
  },
  {
   "cell_type": "code",
   "execution_count": 8,
   "metadata": {},
   "outputs": [
    {
     "data": {
      "text/html": [
       "<div>\n",
       "<table border=\"1\" class=\"dataframe\">\n",
       "  <thead>\n",
       "    <tr style=\"text-align: right;\">\n",
       "      <th></th>\n",
       "      <th>PassengerId</th>\n",
       "      <th>Survived</th>\n",
       "      <th>Pclass</th>\n",
       "      <th>Name</th>\n",
       "      <th>Sex</th>\n",
       "      <th>Age</th>\n",
       "      <th>SibSp</th>\n",
       "      <th>Parch</th>\n",
       "      <th>Ticket</th>\n",
       "      <th>Fare</th>\n",
       "      <th>Cabin</th>\n",
       "      <th>Embarked</th>\n",
       "      <th>Surname</th>\n",
       "      <th>Given_Names</th>\n",
       "    </tr>\n",
       "  </thead>\n",
       "  <tbody>\n",
       "    <tr>\n",
       "      <th>0</th>\n",
       "      <td>1</td>\n",
       "      <td>0</td>\n",
       "      <td>3</td>\n",
       "      <td>Braund, Mr. Owen Harris</td>\n",
       "      <td>male</td>\n",
       "      <td>22.0</td>\n",
       "      <td>1</td>\n",
       "      <td>0</td>\n",
       "      <td>A/5 21171</td>\n",
       "      <td>7.2500</td>\n",
       "      <td>NaN</td>\n",
       "      <td>S</td>\n",
       "      <td>Braund</td>\n",
       "      <td>Mr. Owen Harris</td>\n",
       "    </tr>\n",
       "    <tr>\n",
       "      <th>1</th>\n",
       "      <td>2</td>\n",
       "      <td>1</td>\n",
       "      <td>1</td>\n",
       "      <td>Cumings, Mrs. John Bradley (Florence Briggs Th...</td>\n",
       "      <td>female</td>\n",
       "      <td>38.0</td>\n",
       "      <td>1</td>\n",
       "      <td>0</td>\n",
       "      <td>PC 17599</td>\n",
       "      <td>71.2833</td>\n",
       "      <td>C85</td>\n",
       "      <td>C</td>\n",
       "      <td>Cumings</td>\n",
       "      <td>Mrs. John Bradley (Florence Briggs Thayer)</td>\n",
       "    </tr>\n",
       "    <tr>\n",
       "      <th>2</th>\n",
       "      <td>3</td>\n",
       "      <td>1</td>\n",
       "      <td>3</td>\n",
       "      <td>Heikkinen, Miss. Laina</td>\n",
       "      <td>female</td>\n",
       "      <td>26.0</td>\n",
       "      <td>0</td>\n",
       "      <td>0</td>\n",
       "      <td>STON/O2. 3101282</td>\n",
       "      <td>7.9250</td>\n",
       "      <td>NaN</td>\n",
       "      <td>S</td>\n",
       "      <td>Heikkinen</td>\n",
       "      <td>Miss. Laina</td>\n",
       "    </tr>\n",
       "    <tr>\n",
       "      <th>3</th>\n",
       "      <td>4</td>\n",
       "      <td>1</td>\n",
       "      <td>1</td>\n",
       "      <td>Futrelle, Mrs. Jacques Heath (Lily May Peel)</td>\n",
       "      <td>female</td>\n",
       "      <td>35.0</td>\n",
       "      <td>1</td>\n",
       "      <td>0</td>\n",
       "      <td>113803</td>\n",
       "      <td>53.1000</td>\n",
       "      <td>C123</td>\n",
       "      <td>S</td>\n",
       "      <td>Futrelle</td>\n",
       "      <td>Mrs. Jacques Heath (Lily May Peel)</td>\n",
       "    </tr>\n",
       "    <tr>\n",
       "      <th>4</th>\n",
       "      <td>5</td>\n",
       "      <td>0</td>\n",
       "      <td>3</td>\n",
       "      <td>Allen, Mr. William Henry</td>\n",
       "      <td>male</td>\n",
       "      <td>35.0</td>\n",
       "      <td>0</td>\n",
       "      <td>0</td>\n",
       "      <td>373450</td>\n",
       "      <td>8.0500</td>\n",
       "      <td>NaN</td>\n",
       "      <td>S</td>\n",
       "      <td>Allen</td>\n",
       "      <td>Mr. William Henry</td>\n",
       "    </tr>\n",
       "  </tbody>\n",
       "</table>\n",
       "</div>"
      ],
      "text/plain": [
       "   PassengerId  Survived  Pclass  \\\n",
       "0            1         0       3   \n",
       "1            2         1       1   \n",
       "2            3         1       3   \n",
       "3            4         1       1   \n",
       "4            5         0       3   \n",
       "\n",
       "                                                Name     Sex   Age  SibSp  \\\n",
       "0                            Braund, Mr. Owen Harris    male  22.0      1   \n",
       "1  Cumings, Mrs. John Bradley (Florence Briggs Th...  female  38.0      1   \n",
       "2                             Heikkinen, Miss. Laina  female  26.0      0   \n",
       "3       Futrelle, Mrs. Jacques Heath (Lily May Peel)  female  35.0      1   \n",
       "4                           Allen, Mr. William Henry    male  35.0      0   \n",
       "\n",
       "   Parch            Ticket     Fare Cabin Embarked    Surname  \\\n",
       "0      0         A/5 21171   7.2500   NaN        S     Braund   \n",
       "1      0          PC 17599  71.2833   C85        C    Cumings   \n",
       "2      0  STON/O2. 3101282   7.9250   NaN        S  Heikkinen   \n",
       "3      0            113803  53.1000  C123        S   Futrelle   \n",
       "4      0            373450   8.0500   NaN        S      Allen   \n",
       "\n",
       "                                   Given_Names  \n",
       "0                              Mr. Owen Harris  \n",
       "1   Mrs. John Bradley (Florence Briggs Thayer)  \n",
       "2                                  Miss. Laina  \n",
       "3           Mrs. Jacques Heath (Lily May Peel)  \n",
       "4                            Mr. William Henry  "
      ]
     },
     "execution_count": 8,
     "metadata": {},
     "output_type": "execute_result"
    }
   ],
   "source": [
    "surname = titanic_df_filtered['Name'].str.split(pat=',', expand=True)\n",
    "\n",
    "surname.rename(columns={0:'Surname', 1:'Given_Names'}, inplace=True)\n",
    "\n",
    "\n",
    "titanic_df_new = pd.concat([titanic_df_filtered, surname], axis=1, join='inner')\n",
    "\n",
    "titanic_df_new.sort_values(['Surname'])\n",
    "\n",
    "titanic_df_new.head()"
   ]
  },
  {
   "cell_type": "markdown",
   "metadata": {},
   "source": [
    "To count how many males/females and children/adults survived in each family, it's necessary to create 3 new boolean columns:"
   ]
  },
  {
   "cell_type": "code",
   "execution_count": 9,
   "metadata": {},
   "outputs": [
    {
     "data": {
      "text/html": [
       "<div>\n",
       "<table border=\"1\" class=\"dataframe\">\n",
       "  <thead>\n",
       "    <tr style=\"text-align: right;\">\n",
       "      <th></th>\n",
       "      <th>PassengerId</th>\n",
       "      <th>Survived</th>\n",
       "      <th>Pclass</th>\n",
       "      <th>Name</th>\n",
       "      <th>Sex</th>\n",
       "      <th>Age</th>\n",
       "      <th>SibSp</th>\n",
       "      <th>Parch</th>\n",
       "      <th>Ticket</th>\n",
       "      <th>Fare</th>\n",
       "      <th>Cabin</th>\n",
       "      <th>Embarked</th>\n",
       "      <th>Surname</th>\n",
       "      <th>Given_Names</th>\n",
       "      <th>Child</th>\n",
       "      <th>Male</th>\n",
       "      <th>Total_Passengers</th>\n",
       "    </tr>\n",
       "  </thead>\n",
       "  <tbody>\n",
       "    <tr>\n",
       "      <th>0</th>\n",
       "      <td>1</td>\n",
       "      <td>0</td>\n",
       "      <td>3</td>\n",
       "      <td>Braund, Mr. Owen Harris</td>\n",
       "      <td>male</td>\n",
       "      <td>22.0</td>\n",
       "      <td>1</td>\n",
       "      <td>0</td>\n",
       "      <td>A/5 21171</td>\n",
       "      <td>7.2500</td>\n",
       "      <td>NaN</td>\n",
       "      <td>S</td>\n",
       "      <td>Braund</td>\n",
       "      <td>Mr. Owen Harris</td>\n",
       "      <td>0</td>\n",
       "      <td>1</td>\n",
       "      <td>1</td>\n",
       "    </tr>\n",
       "    <tr>\n",
       "      <th>1</th>\n",
       "      <td>2</td>\n",
       "      <td>1</td>\n",
       "      <td>1</td>\n",
       "      <td>Cumings, Mrs. John Bradley (Florence Briggs Th...</td>\n",
       "      <td>female</td>\n",
       "      <td>38.0</td>\n",
       "      <td>1</td>\n",
       "      <td>0</td>\n",
       "      <td>PC 17599</td>\n",
       "      <td>71.2833</td>\n",
       "      <td>C85</td>\n",
       "      <td>C</td>\n",
       "      <td>Cumings</td>\n",
       "      <td>Mrs. John Bradley (Florence Briggs Thayer)</td>\n",
       "      <td>0</td>\n",
       "      <td>0</td>\n",
       "      <td>1</td>\n",
       "    </tr>\n",
       "    <tr>\n",
       "      <th>2</th>\n",
       "      <td>3</td>\n",
       "      <td>1</td>\n",
       "      <td>3</td>\n",
       "      <td>Heikkinen, Miss. Laina</td>\n",
       "      <td>female</td>\n",
       "      <td>26.0</td>\n",
       "      <td>0</td>\n",
       "      <td>0</td>\n",
       "      <td>STON/O2. 3101282</td>\n",
       "      <td>7.9250</td>\n",
       "      <td>NaN</td>\n",
       "      <td>S</td>\n",
       "      <td>Heikkinen</td>\n",
       "      <td>Miss. Laina</td>\n",
       "      <td>0</td>\n",
       "      <td>0</td>\n",
       "      <td>1</td>\n",
       "    </tr>\n",
       "    <tr>\n",
       "      <th>3</th>\n",
       "      <td>4</td>\n",
       "      <td>1</td>\n",
       "      <td>1</td>\n",
       "      <td>Futrelle, Mrs. Jacques Heath (Lily May Peel)</td>\n",
       "      <td>female</td>\n",
       "      <td>35.0</td>\n",
       "      <td>1</td>\n",
       "      <td>0</td>\n",
       "      <td>113803</td>\n",
       "      <td>53.1000</td>\n",
       "      <td>C123</td>\n",
       "      <td>S</td>\n",
       "      <td>Futrelle</td>\n",
       "      <td>Mrs. Jacques Heath (Lily May Peel)</td>\n",
       "      <td>0</td>\n",
       "      <td>0</td>\n",
       "      <td>1</td>\n",
       "    </tr>\n",
       "    <tr>\n",
       "      <th>4</th>\n",
       "      <td>5</td>\n",
       "      <td>0</td>\n",
       "      <td>3</td>\n",
       "      <td>Allen, Mr. William Henry</td>\n",
       "      <td>male</td>\n",
       "      <td>35.0</td>\n",
       "      <td>0</td>\n",
       "      <td>0</td>\n",
       "      <td>373450</td>\n",
       "      <td>8.0500</td>\n",
       "      <td>NaN</td>\n",
       "      <td>S</td>\n",
       "      <td>Allen</td>\n",
       "      <td>Mr. William Henry</td>\n",
       "      <td>0</td>\n",
       "      <td>1</td>\n",
       "      <td>1</td>\n",
       "    </tr>\n",
       "  </tbody>\n",
       "</table>\n",
       "</div>"
      ],
      "text/plain": [
       "   PassengerId  Survived  Pclass  \\\n",
       "0            1         0       3   \n",
       "1            2         1       1   \n",
       "2            3         1       3   \n",
       "3            4         1       1   \n",
       "4            5         0       3   \n",
       "\n",
       "                                                Name     Sex   Age  SibSp  \\\n",
       "0                            Braund, Mr. Owen Harris    male  22.0      1   \n",
       "1  Cumings, Mrs. John Bradley (Florence Briggs Th...  female  38.0      1   \n",
       "2                             Heikkinen, Miss. Laina  female  26.0      0   \n",
       "3       Futrelle, Mrs. Jacques Heath (Lily May Peel)  female  35.0      1   \n",
       "4                           Allen, Mr. William Henry    male  35.0      0   \n",
       "\n",
       "   Parch            Ticket     Fare Cabin Embarked    Surname  \\\n",
       "0      0         A/5 21171   7.2500   NaN        S     Braund   \n",
       "1      0          PC 17599  71.2833   C85        C    Cumings   \n",
       "2      0  STON/O2. 3101282   7.9250   NaN        S  Heikkinen   \n",
       "3      0            113803  53.1000  C123        S   Futrelle   \n",
       "4      0            373450   8.0500   NaN        S      Allen   \n",
       "\n",
       "                                   Given_Names  Child  Male  Total_Passengers  \n",
       "0                              Mr. Owen Harris      0     1                 1  \n",
       "1   Mrs. John Bradley (Florence Briggs Thayer)      0     0                 1  \n",
       "2                                  Miss. Laina      0     0                 1  \n",
       "3           Mrs. Jacques Heath (Lily May Peel)      0     0                 1  \n",
       "4                            Mr. William Henry      0     1                 1  "
      ]
     },
     "execution_count": 9,
     "metadata": {},
     "output_type": "execute_result"
    }
   ],
   "source": [
    "titanic_df_new['Child']=0\n",
    "titanic_df_new.loc[titanic_df_new['Age']<=10, 'Child'] = 1\n",
    "\n",
    "\n",
    "titanic_df_new['Male']=0\n",
    "titanic_df_new.loc[titanic_df_new['Sex']== 'male', 'Male'] = 1\n",
    "\n",
    "\n",
    "titanic_df_new['Total_Passengers']= 1\n",
    "\n",
    "titanic_df_new.head()"
   ]
  },
  {
   "cell_type": "markdown",
   "metadata": {},
   "source": [
    "** According to our assumptions, family members are those with the same surname travelling on the same class (Pclass). \n",
    "Coincidences were ignored.**"
   ]
  },
  {
   "cell_type": "code",
   "execution_count": 11,
   "metadata": {},
   "outputs": [
    {
     "data": {
      "text/html": [
       "<div>\n",
       "<table border=\"1\" class=\"dataframe\">\n",
       "  <thead>\n",
       "    <tr style=\"text-align: right;\">\n",
       "      <th></th>\n",
       "      <th>PassengerId</th>\n",
       "      <th>Survived</th>\n",
       "      <th>Pclass</th>\n",
       "      <th>Name</th>\n",
       "      <th>Sex</th>\n",
       "      <th>Age</th>\n",
       "      <th>SibSp</th>\n",
       "      <th>Parch</th>\n",
       "      <th>Ticket</th>\n",
       "      <th>Fare</th>\n",
       "      <th>Cabin</th>\n",
       "      <th>Embarked</th>\n",
       "      <th>Surname</th>\n",
       "      <th>Given_Names</th>\n",
       "      <th>Child</th>\n",
       "      <th>Male</th>\n",
       "      <th>Total_Passengers</th>\n",
       "      <th>Qty_Family_Members</th>\n",
       "      <th>Child_Presence</th>\n",
       "      <th>Solo_Traveller</th>\n",
       "    </tr>\n",
       "  </thead>\n",
       "  <tbody>\n",
       "    <tr>\n",
       "      <th>0</th>\n",
       "      <td>1</td>\n",
       "      <td>0</td>\n",
       "      <td>3</td>\n",
       "      <td>Braund, Mr. Owen Harris</td>\n",
       "      <td>male</td>\n",
       "      <td>22.0</td>\n",
       "      <td>1</td>\n",
       "      <td>0</td>\n",
       "      <td>A/5 21171</td>\n",
       "      <td>7.2500</td>\n",
       "      <td>NaN</td>\n",
       "      <td>S</td>\n",
       "      <td>Braund</td>\n",
       "      <td>Mr. Owen Harris</td>\n",
       "      <td>0</td>\n",
       "      <td>1</td>\n",
       "      <td>1</td>\n",
       "      <td>2</td>\n",
       "      <td>0</td>\n",
       "      <td>0</td>\n",
       "    </tr>\n",
       "    <tr>\n",
       "      <th>1</th>\n",
       "      <td>2</td>\n",
       "      <td>1</td>\n",
       "      <td>1</td>\n",
       "      <td>Cumings, Mrs. John Bradley (Florence Briggs Th...</td>\n",
       "      <td>female</td>\n",
       "      <td>38.0</td>\n",
       "      <td>1</td>\n",
       "      <td>0</td>\n",
       "      <td>PC 17599</td>\n",
       "      <td>71.2833</td>\n",
       "      <td>C85</td>\n",
       "      <td>C</td>\n",
       "      <td>Cumings</td>\n",
       "      <td>Mrs. John Bradley (Florence Briggs Thayer)</td>\n",
       "      <td>0</td>\n",
       "      <td>0</td>\n",
       "      <td>1</td>\n",
       "      <td>1</td>\n",
       "      <td>0</td>\n",
       "      <td>1</td>\n",
       "    </tr>\n",
       "    <tr>\n",
       "      <th>2</th>\n",
       "      <td>3</td>\n",
       "      <td>1</td>\n",
       "      <td>3</td>\n",
       "      <td>Heikkinen, Miss. Laina</td>\n",
       "      <td>female</td>\n",
       "      <td>26.0</td>\n",
       "      <td>0</td>\n",
       "      <td>0</td>\n",
       "      <td>STON/O2. 3101282</td>\n",
       "      <td>7.9250</td>\n",
       "      <td>NaN</td>\n",
       "      <td>S</td>\n",
       "      <td>Heikkinen</td>\n",
       "      <td>Miss. Laina</td>\n",
       "      <td>0</td>\n",
       "      <td>0</td>\n",
       "      <td>1</td>\n",
       "      <td>1</td>\n",
       "      <td>0</td>\n",
       "      <td>1</td>\n",
       "    </tr>\n",
       "    <tr>\n",
       "      <th>3</th>\n",
       "      <td>4</td>\n",
       "      <td>1</td>\n",
       "      <td>1</td>\n",
       "      <td>Futrelle, Mrs. Jacques Heath (Lily May Peel)</td>\n",
       "      <td>female</td>\n",
       "      <td>35.0</td>\n",
       "      <td>1</td>\n",
       "      <td>0</td>\n",
       "      <td>113803</td>\n",
       "      <td>53.1000</td>\n",
       "      <td>C123</td>\n",
       "      <td>S</td>\n",
       "      <td>Futrelle</td>\n",
       "      <td>Mrs. Jacques Heath (Lily May Peel)</td>\n",
       "      <td>0</td>\n",
       "      <td>0</td>\n",
       "      <td>1</td>\n",
       "      <td>2</td>\n",
       "      <td>0</td>\n",
       "      <td>0</td>\n",
       "    </tr>\n",
       "    <tr>\n",
       "      <th>4</th>\n",
       "      <td>5</td>\n",
       "      <td>0</td>\n",
       "      <td>3</td>\n",
       "      <td>Allen, Mr. William Henry</td>\n",
       "      <td>male</td>\n",
       "      <td>35.0</td>\n",
       "      <td>0</td>\n",
       "      <td>0</td>\n",
       "      <td>373450</td>\n",
       "      <td>8.0500</td>\n",
       "      <td>NaN</td>\n",
       "      <td>S</td>\n",
       "      <td>Allen</td>\n",
       "      <td>Mr. William Henry</td>\n",
       "      <td>0</td>\n",
       "      <td>1</td>\n",
       "      <td>1</td>\n",
       "      <td>1</td>\n",
       "      <td>0</td>\n",
       "      <td>1</td>\n",
       "    </tr>\n",
       "  </tbody>\n",
       "</table>\n",
       "</div>"
      ],
      "text/plain": [
       "   PassengerId  Survived  Pclass  \\\n",
       "0            1         0       3   \n",
       "1            2         1       1   \n",
       "2            3         1       3   \n",
       "3            4         1       1   \n",
       "4            5         0       3   \n",
       "\n",
       "                                                Name     Sex   Age  SibSp  \\\n",
       "0                            Braund, Mr. Owen Harris    male  22.0      1   \n",
       "1  Cumings, Mrs. John Bradley (Florence Briggs Th...  female  38.0      1   \n",
       "2                             Heikkinen, Miss. Laina  female  26.0      0   \n",
       "3       Futrelle, Mrs. Jacques Heath (Lily May Peel)  female  35.0      1   \n",
       "4                           Allen, Mr. William Henry    male  35.0      0   \n",
       "\n",
       "   Parch            Ticket     Fare Cabin Embarked    Surname  \\\n",
       "0      0         A/5 21171   7.2500   NaN        S     Braund   \n",
       "1      0          PC 17599  71.2833   C85        C    Cumings   \n",
       "2      0  STON/O2. 3101282   7.9250   NaN        S  Heikkinen   \n",
       "3      0            113803  53.1000  C123        S   Futrelle   \n",
       "4      0            373450   8.0500   NaN        S      Allen   \n",
       "\n",
       "                                   Given_Names  Child  Male  Total_Passengers  \\\n",
       "0                              Mr. Owen Harris      0     1                 1   \n",
       "1   Mrs. John Bradley (Florence Briggs Thayer)      0     0                 1   \n",
       "2                                  Miss. Laina      0     0                 1   \n",
       "3           Mrs. Jacques Heath (Lily May Peel)      0     0                 1   \n",
       "4                            Mr. William Henry      0     1                 1   \n",
       "\n",
       "   Qty_Family_Members  Child_Presence  Solo_Traveller  \n",
       "0                   2               0               0  \n",
       "1                   1               0               1  \n",
       "2                   1               0               1  \n",
       "3                   2               0               0  \n",
       "4                   1               0               1  "
      ]
     },
     "execution_count": 11,
     "metadata": {},
     "output_type": "execute_result"
    }
   ],
   "source": [
    "# Qty of family members\n",
    "titanic_df_new_groupby_family = titanic_df_new.groupby([\"Surname\", \"Pclass\"], as_index=False)['PassengerId'].count()\n",
    "\n",
    "titanic_df_new_groupby_family.rename(columns={'PassengerId':'Qty_Family_Members'}, inplace=True)\n",
    "\n",
    "titanic_df_new1 = pd.merge(titanic_df_new, titanic_df_new_groupby_family, on=['Surname', 'Pclass'], how='left')\n",
    "\n",
    "\n",
    "# Presence of child in the family\n",
    "\n",
    "titanic_df_new_groupby_family2 = titanic_df_new.groupby([\"Surname\", \"Pclass\"], as_index=False)['Child'].max()\n",
    "\n",
    "titanic_df_new_groupby_family2.rename(columns={'Child':'Child_Presence'}, inplace=True)\n",
    "\n",
    "titanic_df_new2 = pd.merge(titanic_df_new1, titanic_df_new_groupby_family2, on=['Surname', 'Pclass'], how='left')\n",
    "\n",
    "\n",
    "# boolean: if travelling with family, 'solo_traveller' = 0; if travelling solo, 'solo_traveller' = 1.\n",
    "\n",
    "titanic_df_new2['Solo_Traveller']=0\n",
    "titanic_df_new2.loc[(titanic_df_new2['Qty_Family_Members']==1), 'Solo_Traveller'] = 1\n",
    "\n",
    "titanic_df_new2.head()"
   ]
  },
  {
   "cell_type": "markdown",
   "metadata": {},
   "source": [
    "**Sanity check: any solo traveller has a sibling/spouse ('SibSp') or parent/child ('Parch') on board? Any family member does not have any of those?**"
   ]
  },
  {
   "cell_type": "code",
   "execution_count": 12,
   "metadata": {},
   "outputs": [
    {
     "data": {
      "text/html": [
       "<div>\n",
       "<table border=\"1\" class=\"dataframe\">\n",
       "  <thead>\n",
       "    <tr style=\"text-align: right;\">\n",
       "      <th></th>\n",
       "      <th>SibSp</th>\n",
       "      <th>Parch</th>\n",
       "    </tr>\n",
       "    <tr>\n",
       "      <th>Solo_Traveller</th>\n",
       "      <th></th>\n",
       "      <th></th>\n",
       "    </tr>\n",
       "  </thead>\n",
       "  <tbody>\n",
       "    <tr>\n",
       "      <th>0</th>\n",
       "      <td>307</td>\n",
       "      <td>265</td>\n",
       "    </tr>\n",
       "    <tr>\n",
       "      <th>1</th>\n",
       "      <td>59</td>\n",
       "      <td>43</td>\n",
       "    </tr>\n",
       "  </tbody>\n",
       "</table>\n",
       "</div>"
      ],
      "text/plain": [
       "                SibSp  Parch\n",
       "Solo_Traveller              \n",
       "0                 307    265\n",
       "1                  59     43"
      ]
     },
     "execution_count": 12,
     "metadata": {},
     "output_type": "execute_result"
    }
   ],
   "source": [
    "titanic_df_new2.groupby(['Solo_Traveller'])['SibSp', 'Parch'].sum()"
   ]
  },
  {
   "cell_type": "markdown",
   "metadata": {},
   "source": [
    "** Let's check those solo travellers with family members! **"
   ]
  },
  {
   "cell_type": "markdown",
   "metadata": {},
   "source": [
    "** check #1: 'Parch' variable (parents/children)**"
   ]
  },
  {
   "cell_type": "code",
   "execution_count": 14,
   "metadata": {},
   "outputs": [
    {
     "data": {
      "text/html": [
       "<div>\n",
       "<table border=\"1\" class=\"dataframe\">\n",
       "  <thead>\n",
       "    <tr style=\"text-align: right;\">\n",
       "      <th></th>\n",
       "      <th>PassengerId</th>\n",
       "      <th>Survived</th>\n",
       "      <th>Pclass</th>\n",
       "      <th>Name</th>\n",
       "      <th>Sex</th>\n",
       "      <th>Age</th>\n",
       "      <th>SibSp</th>\n",
       "      <th>Parch</th>\n",
       "      <th>Ticket</th>\n",
       "      <th>Fare</th>\n",
       "      <th>Cabin</th>\n",
       "      <th>Embarked</th>\n",
       "      <th>Surname</th>\n",
       "      <th>Given_Names</th>\n",
       "      <th>Child</th>\n",
       "      <th>Male</th>\n",
       "      <th>Total_Passengers</th>\n",
       "      <th>Qty_Family_Members</th>\n",
       "      <th>Child_Presence</th>\n",
       "      <th>Solo_Traveller</th>\n",
       "    </tr>\n",
       "  </thead>\n",
       "  <tbody>\n",
       "    <tr>\n",
       "      <th>40</th>\n",
       "      <td>55</td>\n",
       "      <td>0</td>\n",
       "      <td>1</td>\n",
       "      <td>Ostby, Mr. Engelhart Cornelius</td>\n",
       "      <td>male</td>\n",
       "      <td>65.0</td>\n",
       "      <td>0</td>\n",
       "      <td>1</td>\n",
       "      <td>113509</td>\n",
       "      <td>61.9792</td>\n",
       "      <td>B30</td>\n",
       "      <td>C</td>\n",
       "      <td>Ostby</td>\n",
       "      <td>Mr. Engelhart Cornelius</td>\n",
       "      <td>0</td>\n",
       "      <td>1</td>\n",
       "      <td>1</td>\n",
       "      <td>1</td>\n",
       "      <td>0</td>\n",
       "      <td>1</td>\n",
       "    </tr>\n",
       "    <tr>\n",
       "      <th>75</th>\n",
       "      <td>98</td>\n",
       "      <td>1</td>\n",
       "      <td>1</td>\n",
       "      <td>Greenfield, Mr. William Bertram</td>\n",
       "      <td>male</td>\n",
       "      <td>23.0</td>\n",
       "      <td>0</td>\n",
       "      <td>1</td>\n",
       "      <td>PC 17759</td>\n",
       "      <td>63.3583</td>\n",
       "      <td>D10 D12</td>\n",
       "      <td>C</td>\n",
       "      <td>Greenfield</td>\n",
       "      <td>Mr. William Bertram</td>\n",
       "      <td>0</td>\n",
       "      <td>1</td>\n",
       "      <td>1</td>\n",
       "      <td>1</td>\n",
       "      <td>0</td>\n",
       "      <td>1</td>\n",
       "    </tr>\n",
       "    <tr>\n",
       "      <th>108</th>\n",
       "      <td>137</td>\n",
       "      <td>1</td>\n",
       "      <td>1</td>\n",
       "      <td>Newsom, Miss. Helen Monypeny</td>\n",
       "      <td>female</td>\n",
       "      <td>19.0</td>\n",
       "      <td>0</td>\n",
       "      <td>2</td>\n",
       "      <td>11752</td>\n",
       "      <td>26.2833</td>\n",
       "      <td>D47</td>\n",
       "      <td>S</td>\n",
       "      <td>Newsom</td>\n",
       "      <td>Miss. Helen Monypeny</td>\n",
       "      <td>0</td>\n",
       "      <td>0</td>\n",
       "      <td>1</td>\n",
       "      <td>1</td>\n",
       "      <td>0</td>\n",
       "      <td>1</td>\n",
       "    </tr>\n",
       "    <tr>\n",
       "      <th>116</th>\n",
       "      <td>146</td>\n",
       "      <td>0</td>\n",
       "      <td>2</td>\n",
       "      <td>Nicholls, Mr. Joseph Charles</td>\n",
       "      <td>male</td>\n",
       "      <td>19.0</td>\n",
       "      <td>1</td>\n",
       "      <td>1</td>\n",
       "      <td>C.A. 33112</td>\n",
       "      <td>36.7500</td>\n",
       "      <td>NaN</td>\n",
       "      <td>S</td>\n",
       "      <td>Nicholls</td>\n",
       "      <td>Mr. Joseph Charles</td>\n",
       "      <td>0</td>\n",
       "      <td>1</td>\n",
       "      <td>1</td>\n",
       "      <td>1</td>\n",
       "      <td>0</td>\n",
       "      <td>1</td>\n",
       "    </tr>\n",
       "    <tr>\n",
       "      <th>124</th>\n",
       "      <td>154</td>\n",
       "      <td>0</td>\n",
       "      <td>3</td>\n",
       "      <td>van Billiard, Mr. Austin Blyler</td>\n",
       "      <td>male</td>\n",
       "      <td>40.5</td>\n",
       "      <td>0</td>\n",
       "      <td>2</td>\n",
       "      <td>A/5. 851</td>\n",
       "      <td>14.5000</td>\n",
       "      <td>NaN</td>\n",
       "      <td>S</td>\n",
       "      <td>van Billiard</td>\n",
       "      <td>Mr. Austin Blyler</td>\n",
       "      <td>0</td>\n",
       "      <td>1</td>\n",
       "      <td>1</td>\n",
       "      <td>1</td>\n",
       "      <td>0</td>\n",
       "      <td>1</td>\n",
       "    </tr>\n",
       "  </tbody>\n",
       "</table>\n",
       "</div>"
      ],
      "text/plain": [
       "     PassengerId  Survived  Pclass                             Name     Sex  \\\n",
       "40            55         0       1   Ostby, Mr. Engelhart Cornelius    male   \n",
       "75            98         1       1  Greenfield, Mr. William Bertram    male   \n",
       "108          137         1       1     Newsom, Miss. Helen Monypeny  female   \n",
       "116          146         0       2     Nicholls, Mr. Joseph Charles    male   \n",
       "124          154         0       3  van Billiard, Mr. Austin Blyler    male   \n",
       "\n",
       "      Age  SibSp  Parch      Ticket     Fare    Cabin Embarked       Surname  \\\n",
       "40   65.0      0      1      113509  61.9792      B30        C         Ostby   \n",
       "75   23.0      0      1    PC 17759  63.3583  D10 D12        C    Greenfield   \n",
       "108  19.0      0      2       11752  26.2833      D47        S        Newsom   \n",
       "116  19.0      1      1  C.A. 33112  36.7500      NaN        S      Nicholls   \n",
       "124  40.5      0      2    A/5. 851  14.5000      NaN        S  van Billiard   \n",
       "\n",
       "                  Given_Names  Child  Male  Total_Passengers  \\\n",
       "40    Mr. Engelhart Cornelius      0     1                 1   \n",
       "75        Mr. William Bertram      0     1                 1   \n",
       "108      Miss. Helen Monypeny      0     0                 1   \n",
       "116        Mr. Joseph Charles      0     1                 1   \n",
       "124         Mr. Austin Blyler      0     1                 1   \n",
       "\n",
       "     Qty_Family_Members  Child_Presence  Solo_Traveller  \n",
       "40                    1               0               1  \n",
       "75                    1               0               1  \n",
       "108                   1               0               1  \n",
       "116                   1               0               1  \n",
       "124                   1               0               1  "
      ]
     },
     "execution_count": 14,
     "metadata": {},
     "output_type": "execute_result"
    }
   ],
   "source": [
    "titanic_df_new2_filtered = titanic_df_new2[(titanic_df_new2['Parch']>0) & titanic_df_new2['Solo_Traveller']==1]\n",
    "\n",
    "titanic_df_new2_filtered.head()"
   ]
  },
  {
   "cell_type": "markdown",
   "metadata": {},
   "source": [
    "- Except for 1 case with same ticket number for 2 different passengers, the remaining have nothing in common to link each other.\n",
    "- Solution: change 'Parch' variable to 0 (zero). \n",
    "- Ignore if more than one ticket with same number, can't make assumptions."
   ]
  },
  {
   "cell_type": "code",
   "execution_count": 15,
   "metadata": {},
   "outputs": [
    {
     "data": {
      "text/html": [
       "<div>\n",
       "<table border=\"1\" class=\"dataframe\">\n",
       "  <thead>\n",
       "    <tr style=\"text-align: right;\">\n",
       "      <th></th>\n",
       "      <th>SibSp</th>\n",
       "      <th>Parch</th>\n",
       "    </tr>\n",
       "    <tr>\n",
       "      <th>Solo_Traveller</th>\n",
       "      <th></th>\n",
       "      <th></th>\n",
       "    </tr>\n",
       "  </thead>\n",
       "  <tbody>\n",
       "    <tr>\n",
       "      <th>0</th>\n",
       "      <td>307</td>\n",
       "      <td>265</td>\n",
       "    </tr>\n",
       "    <tr>\n",
       "      <th>1</th>\n",
       "      <td>59</td>\n",
       "      <td>0</td>\n",
       "    </tr>\n",
       "  </tbody>\n",
       "</table>\n",
       "</div>"
      ],
      "text/plain": [
       "                SibSp  Parch\n",
       "Solo_Traveller              \n",
       "0                 307    265\n",
       "1                  59      0"
      ]
     },
     "execution_count": 15,
     "metadata": {},
     "output_type": "execute_result"
    }
   ],
   "source": [
    "titanic_df_new2.loc[(titanic_df_new2['Parch']>0) & (titanic_df_new2['Solo_Traveller']==1), 'Parch'] = 0\n",
    "\n",
    "titanic_df_new2.groupby(['Solo_Traveller'])['SibSp', 'Parch'].sum()"
   ]
  },
  {
   "cell_type": "markdown",
   "metadata": {},
   "source": [
    "** check # 2: 'SibSp' variable (siblings/spouse)**"
   ]
  },
  {
   "cell_type": "code",
   "execution_count": 17,
   "metadata": {},
   "outputs": [
    {
     "data": {
      "text/html": [
       "<div>\n",
       "<table border=\"1\" class=\"dataframe\">\n",
       "  <thead>\n",
       "    <tr style=\"text-align: right;\">\n",
       "      <th></th>\n",
       "      <th>PassengerId</th>\n",
       "      <th>Survived</th>\n",
       "      <th>Pclass</th>\n",
       "      <th>Name</th>\n",
       "      <th>Sex</th>\n",
       "      <th>Age</th>\n",
       "      <th>SibSp</th>\n",
       "      <th>Parch</th>\n",
       "      <th>Ticket</th>\n",
       "      <th>Fare</th>\n",
       "      <th>Cabin</th>\n",
       "      <th>Embarked</th>\n",
       "      <th>Surname</th>\n",
       "      <th>Given_Names</th>\n",
       "      <th>Child</th>\n",
       "      <th>Male</th>\n",
       "      <th>Total_Passengers</th>\n",
       "      <th>Qty_Family_Members</th>\n",
       "      <th>Child_Presence</th>\n",
       "      <th>Solo_Traveller</th>\n",
       "    </tr>\n",
       "  </thead>\n",
       "  <tbody>\n",
       "    <tr>\n",
       "      <th>1</th>\n",
       "      <td>2</td>\n",
       "      <td>1</td>\n",
       "      <td>1</td>\n",
       "      <td>Cumings, Mrs. John Bradley (Florence Briggs Th...</td>\n",
       "      <td>female</td>\n",
       "      <td>38.0</td>\n",
       "      <td>1</td>\n",
       "      <td>0</td>\n",
       "      <td>PC 17599</td>\n",
       "      <td>71.2833</td>\n",
       "      <td>C85</td>\n",
       "      <td>C</td>\n",
       "      <td>Cumings</td>\n",
       "      <td>Mrs. John Bradley (Florence Briggs Thayer)</td>\n",
       "      <td>0</td>\n",
       "      <td>0</td>\n",
       "      <td>1</td>\n",
       "      <td>1</td>\n",
       "      <td>0</td>\n",
       "      <td>1</td>\n",
       "    </tr>\n",
       "    <tr>\n",
       "      <th>26</th>\n",
       "      <td>35</td>\n",
       "      <td>0</td>\n",
       "      <td>1</td>\n",
       "      <td>Meyer, Mr. Edgar Joseph</td>\n",
       "      <td>male</td>\n",
       "      <td>28.0</td>\n",
       "      <td>1</td>\n",
       "      <td>0</td>\n",
       "      <td>PC 17604</td>\n",
       "      <td>82.1708</td>\n",
       "      <td>NaN</td>\n",
       "      <td>C</td>\n",
       "      <td>Meyer</td>\n",
       "      <td>Mr. Edgar Joseph</td>\n",
       "      <td>0</td>\n",
       "      <td>1</td>\n",
       "      <td>1</td>\n",
       "      <td>1</td>\n",
       "      <td>0</td>\n",
       "      <td>1</td>\n",
       "    </tr>\n",
       "    <tr>\n",
       "      <th>31</th>\n",
       "      <td>41</td>\n",
       "      <td>0</td>\n",
       "      <td>3</td>\n",
       "      <td>Ahlin, Mrs. Johan (Johanna Persdotter Larsson)</td>\n",
       "      <td>female</td>\n",
       "      <td>40.0</td>\n",
       "      <td>1</td>\n",
       "      <td>0</td>\n",
       "      <td>7546</td>\n",
       "      <td>9.4750</td>\n",
       "      <td>NaN</td>\n",
       "      <td>S</td>\n",
       "      <td>Ahlin</td>\n",
       "      <td>Mrs. Johan (Johanna Persdotter Larsson)</td>\n",
       "      <td>0</td>\n",
       "      <td>0</td>\n",
       "      <td>1</td>\n",
       "      <td>1</td>\n",
       "      <td>0</td>\n",
       "      <td>1</td>\n",
       "    </tr>\n",
       "    <tr>\n",
       "      <th>39</th>\n",
       "      <td>54</td>\n",
       "      <td>1</td>\n",
       "      <td>2</td>\n",
       "      <td>Faunthorpe, Mrs. Lizzie (Elizabeth Anne Wilkin...</td>\n",
       "      <td>female</td>\n",
       "      <td>29.0</td>\n",
       "      <td>1</td>\n",
       "      <td>0</td>\n",
       "      <td>2926</td>\n",
       "      <td>26.0000</td>\n",
       "      <td>NaN</td>\n",
       "      <td>S</td>\n",
       "      <td>Faunthorpe</td>\n",
       "      <td>Mrs. Lizzie (Elizabeth Anne Wilkinson)</td>\n",
       "      <td>0</td>\n",
       "      <td>0</td>\n",
       "      <td>1</td>\n",
       "      <td>1</td>\n",
       "      <td>0</td>\n",
       "      <td>1</td>\n",
       "    </tr>\n",
       "    <tr>\n",
       "      <th>52</th>\n",
       "      <td>70</td>\n",
       "      <td>0</td>\n",
       "      <td>3</td>\n",
       "      <td>Kink, Mr. Vincenz</td>\n",
       "      <td>male</td>\n",
       "      <td>26.0</td>\n",
       "      <td>2</td>\n",
       "      <td>0</td>\n",
       "      <td>315151</td>\n",
       "      <td>8.6625</td>\n",
       "      <td>NaN</td>\n",
       "      <td>S</td>\n",
       "      <td>Kink</td>\n",
       "      <td>Mr. Vincenz</td>\n",
       "      <td>0</td>\n",
       "      <td>1</td>\n",
       "      <td>1</td>\n",
       "      <td>1</td>\n",
       "      <td>0</td>\n",
       "      <td>1</td>\n",
       "    </tr>\n",
       "  </tbody>\n",
       "</table>\n",
       "</div>"
      ],
      "text/plain": [
       "    PassengerId  Survived  Pclass  \\\n",
       "1             2         1       1   \n",
       "26           35         0       1   \n",
       "31           41         0       3   \n",
       "39           54         1       2   \n",
       "52           70         0       3   \n",
       "\n",
       "                                                 Name     Sex   Age  SibSp  \\\n",
       "1   Cumings, Mrs. John Bradley (Florence Briggs Th...  female  38.0      1   \n",
       "26                            Meyer, Mr. Edgar Joseph    male  28.0      1   \n",
       "31     Ahlin, Mrs. Johan (Johanna Persdotter Larsson)  female  40.0      1   \n",
       "39  Faunthorpe, Mrs. Lizzie (Elizabeth Anne Wilkin...  female  29.0      1   \n",
       "52                                  Kink, Mr. Vincenz    male  26.0      2   \n",
       "\n",
       "    Parch    Ticket     Fare Cabin Embarked     Surname  \\\n",
       "1       0  PC 17599  71.2833   C85        C     Cumings   \n",
       "26      0  PC 17604  82.1708   NaN        C       Meyer   \n",
       "31      0      7546   9.4750   NaN        S       Ahlin   \n",
       "39      0      2926  26.0000   NaN        S  Faunthorpe   \n",
       "52      0    315151   8.6625   NaN        S        Kink   \n",
       "\n",
       "                                    Given_Names  Child  Male  \\\n",
       "1    Mrs. John Bradley (Florence Briggs Thayer)      0     0   \n",
       "26                             Mr. Edgar Joseph      0     1   \n",
       "31      Mrs. Johan (Johanna Persdotter Larsson)      0     0   \n",
       "39       Mrs. Lizzie (Elizabeth Anne Wilkinson)      0     0   \n",
       "52                                  Mr. Vincenz      0     1   \n",
       "\n",
       "    Total_Passengers  Qty_Family_Members  Child_Presence  Solo_Traveller  \n",
       "1                  1                   1               0               1  \n",
       "26                 1                   1               0               1  \n",
       "31                 1                   1               0               1  \n",
       "39                 1                   1               0               1  \n",
       "52                 1                   1               0               1  "
      ]
     },
     "execution_count": 17,
     "metadata": {},
     "output_type": "execute_result"
    }
   ],
   "source": [
    "titanic_df_new2_filtered = titanic_df_new2[(titanic_df_new2['SibSp']>0) & titanic_df_new2['Solo_Traveller']==1]\n",
    "\n",
    "titanic_df_new2_filtered.head()"
   ]
  },
  {
   "cell_type": "markdown",
   "metadata": {},
   "source": [
    "- Same as Parch. Except for 1 case with same ticket number for 2 different passengers, the remaining have nothing in common to link each other.\n",
    "- Solution: change 'SibSp' variable to 0 (zero). \n",
    "- Ignore if more than one ticket with same number, can't make assumptions."
   ]
  },
  {
   "cell_type": "code",
   "execution_count": 18,
   "metadata": {},
   "outputs": [
    {
     "data": {
      "text/html": [
       "<div>\n",
       "<table border=\"1\" class=\"dataframe\">\n",
       "  <thead>\n",
       "    <tr style=\"text-align: right;\">\n",
       "      <th></th>\n",
       "      <th>SibSp</th>\n",
       "      <th>Parch</th>\n",
       "    </tr>\n",
       "    <tr>\n",
       "      <th>Solo_Traveller</th>\n",
       "      <th></th>\n",
       "      <th></th>\n",
       "    </tr>\n",
       "  </thead>\n",
       "  <tbody>\n",
       "    <tr>\n",
       "      <th>0</th>\n",
       "      <td>307</td>\n",
       "      <td>265</td>\n",
       "    </tr>\n",
       "    <tr>\n",
       "      <th>1</th>\n",
       "      <td>0</td>\n",
       "      <td>0</td>\n",
       "    </tr>\n",
       "  </tbody>\n",
       "</table>\n",
       "</div>"
      ],
      "text/plain": [
       "                SibSp  Parch\n",
       "Solo_Traveller              \n",
       "0                 307    265\n",
       "1                   0      0"
      ]
     },
     "execution_count": 18,
     "metadata": {},
     "output_type": "execute_result"
    }
   ],
   "source": [
    "titanic_df_new2.loc[(titanic_df_new2['SibSp']>0) & (titanic_df_new2['Solo_Traveller']==1), 'SibSp'] = 0\n",
    "\n",
    "titanic_df_new2.groupby(['Solo_Traveller'])['SibSp', 'Parch'].sum()"
   ]
  },
  {
   "cell_type": "code",
   "execution_count": 21,
   "metadata": {},
   "outputs": [
    {
     "data": {
      "text/html": [
       "<div>\n",
       "<table border=\"1\" class=\"dataframe\">\n",
       "  <thead>\n",
       "    <tr style=\"text-align: right;\">\n",
       "      <th></th>\n",
       "      <th>PassengerId</th>\n",
       "      <th>Survived</th>\n",
       "      <th>Pclass</th>\n",
       "      <th>Name</th>\n",
       "      <th>Sex</th>\n",
       "      <th>Age</th>\n",
       "      <th>SibSp</th>\n",
       "      <th>Parch</th>\n",
       "      <th>Ticket</th>\n",
       "      <th>Fare</th>\n",
       "      <th>Cabin</th>\n",
       "      <th>Embarked</th>\n",
       "      <th>Surname</th>\n",
       "      <th>Given_Names</th>\n",
       "      <th>Child</th>\n",
       "      <th>Male</th>\n",
       "      <th>Total_Passengers</th>\n",
       "      <th>Qty_Family_Members</th>\n",
       "      <th>Child_Presence</th>\n",
       "      <th>Solo_Traveller</th>\n",
       "    </tr>\n",
       "  </thead>\n",
       "  <tbody>\n",
       "    <tr>\n",
       "      <th>7</th>\n",
       "      <td>9</td>\n",
       "      <td>1</td>\n",
       "      <td>3</td>\n",
       "      <td>Johnson, Mrs. Oscar W (Elisabeth Vilhelmina Berg)</td>\n",
       "      <td>female</td>\n",
       "      <td>27.0</td>\n",
       "      <td>0</td>\n",
       "      <td>2</td>\n",
       "      <td>347742</td>\n",
       "      <td>11.1333</td>\n",
       "      <td>NaN</td>\n",
       "      <td>S</td>\n",
       "      <td>Johnson</td>\n",
       "      <td>Mrs. Oscar W (Elisabeth Vilhelmina Berg)</td>\n",
       "      <td>0</td>\n",
       "      <td>0</td>\n",
       "      <td>1</td>\n",
       "      <td>6</td>\n",
       "      <td>1</td>\n",
       "      <td>0</td>\n",
       "    </tr>\n",
       "    <tr>\n",
       "      <th>12</th>\n",
       "      <td>14</td>\n",
       "      <td>0</td>\n",
       "      <td>3</td>\n",
       "      <td>Andersson, Mr. Anders Johan</td>\n",
       "      <td>male</td>\n",
       "      <td>39.0</td>\n",
       "      <td>1</td>\n",
       "      <td>5</td>\n",
       "      <td>347082</td>\n",
       "      <td>31.2750</td>\n",
       "      <td>NaN</td>\n",
       "      <td>S</td>\n",
       "      <td>Andersson</td>\n",
       "      <td>Mr. Anders Johan</td>\n",
       "      <td>0</td>\n",
       "      <td>1</td>\n",
       "      <td>1</td>\n",
       "      <td>9</td>\n",
       "      <td>1</td>\n",
       "      <td>0</td>\n",
       "    </tr>\n",
       "    <tr>\n",
       "      <th>22</th>\n",
       "      <td>26</td>\n",
       "      <td>1</td>\n",
       "      <td>3</td>\n",
       "      <td>Asplund, Mrs. Carl Oscar (Selma Augusta Emilia...</td>\n",
       "      <td>female</td>\n",
       "      <td>38.0</td>\n",
       "      <td>1</td>\n",
       "      <td>5</td>\n",
       "      <td>347077</td>\n",
       "      <td>31.3875</td>\n",
       "      <td>NaN</td>\n",
       "      <td>S</td>\n",
       "      <td>Asplund</td>\n",
       "      <td>Mrs. Carl Oscar (Selma Augusta Emilia Johansson)</td>\n",
       "      <td>0</td>\n",
       "      <td>0</td>\n",
       "      <td>1</td>\n",
       "      <td>4</td>\n",
       "      <td>1</td>\n",
       "      <td>0</td>\n",
       "    </tr>\n",
       "    <tr>\n",
       "      <th>44</th>\n",
       "      <td>60</td>\n",
       "      <td>0</td>\n",
       "      <td>3</td>\n",
       "      <td>Goodwin, Master. William Frederick</td>\n",
       "      <td>male</td>\n",
       "      <td>11.0</td>\n",
       "      <td>5</td>\n",
       "      <td>2</td>\n",
       "      <td>CA 2144</td>\n",
       "      <td>46.9000</td>\n",
       "      <td>NaN</td>\n",
       "      <td>S</td>\n",
       "      <td>Goodwin</td>\n",
       "      <td>Master. William Frederick</td>\n",
       "      <td>0</td>\n",
       "      <td>1</td>\n",
       "      <td>1</td>\n",
       "      <td>6</td>\n",
       "      <td>1</td>\n",
       "      <td>0</td>\n",
       "    </tr>\n",
       "    <tr>\n",
       "      <th>51</th>\n",
       "      <td>69</td>\n",
       "      <td>1</td>\n",
       "      <td>3</td>\n",
       "      <td>Andersson, Miss. Erna Alexandra</td>\n",
       "      <td>female</td>\n",
       "      <td>17.0</td>\n",
       "      <td>4</td>\n",
       "      <td>2</td>\n",
       "      <td>3101281</td>\n",
       "      <td>7.9250</td>\n",
       "      <td>NaN</td>\n",
       "      <td>S</td>\n",
       "      <td>Andersson</td>\n",
       "      <td>Miss. Erna Alexandra</td>\n",
       "      <td>0</td>\n",
       "      <td>0</td>\n",
       "      <td>1</td>\n",
       "      <td>9</td>\n",
       "      <td>1</td>\n",
       "      <td>0</td>\n",
       "    </tr>\n",
       "  </tbody>\n",
       "</table>\n",
       "</div>"
      ],
      "text/plain": [
       "    PassengerId  Survived  Pclass  \\\n",
       "7             9         1       3   \n",
       "12           14         0       3   \n",
       "22           26         1       3   \n",
       "44           60         0       3   \n",
       "51           69         1       3   \n",
       "\n",
       "                                                 Name     Sex   Age  SibSp  \\\n",
       "7   Johnson, Mrs. Oscar W (Elisabeth Vilhelmina Berg)  female  27.0      0   \n",
       "12                        Andersson, Mr. Anders Johan    male  39.0      1   \n",
       "22  Asplund, Mrs. Carl Oscar (Selma Augusta Emilia...  female  38.0      1   \n",
       "44                 Goodwin, Master. William Frederick    male  11.0      5   \n",
       "51                    Andersson, Miss. Erna Alexandra  female  17.0      4   \n",
       "\n",
       "    Parch   Ticket     Fare Cabin Embarked    Surname  \\\n",
       "7       2   347742  11.1333   NaN        S    Johnson   \n",
       "12      5   347082  31.2750   NaN        S  Andersson   \n",
       "22      5   347077  31.3875   NaN        S    Asplund   \n",
       "44      2  CA 2144  46.9000   NaN        S    Goodwin   \n",
       "51      2  3101281   7.9250   NaN        S  Andersson   \n",
       "\n",
       "                                          Given_Names  Child  Male  \\\n",
       "7            Mrs. Oscar W (Elisabeth Vilhelmina Berg)      0     0   \n",
       "12                                   Mr. Anders Johan      0     1   \n",
       "22   Mrs. Carl Oscar (Selma Augusta Emilia Johansson)      0     0   \n",
       "44                          Master. William Frederick      0     1   \n",
       "51                               Miss. Erna Alexandra      0     0   \n",
       "\n",
       "    Total_Passengers  Qty_Family_Members  Child_Presence  Solo_Traveller  \n",
       "7                  1                   6               1               0  \n",
       "12                 1                   9               1               0  \n",
       "22                 1                   4               1               0  \n",
       "44                 1                   6               1               0  \n",
       "51                 1                   9               1               0  "
      ]
     },
     "execution_count": 21,
     "metadata": {},
     "output_type": "execute_result"
    }
   ],
   "source": [
    "titanic_df_new2_filtered = titanic_df_new2[(titanic_df_new2['Child']==0) & titanic_df_new2['Child_Presence']==1]\n",
    "\n",
    "titanic_df_new2_filtered.head()"
   ]
  },
  {
   "cell_type": "markdown",
   "metadata": {},
   "source": [
    "***\n",
    "## Step 3: Data Exploration"
   ]
  },
  {
   "cell_type": "markdown",
   "metadata": {},
   "source": [
    "** Summary tables: **"
   ]
  },
  {
   "cell_type": "code",
   "execution_count": 22,
   "metadata": {},
   "outputs": [
    {
     "data": {
      "text/plain": [
       "Survived\n",
       "0    424\n",
       "1    290\n",
       "Name: Total_Passengers, dtype: int64"
      ]
     },
     "execution_count": 22,
     "metadata": {},
     "output_type": "execute_result"
    }
   ],
   "source": [
    "titanic_df_new2.groupby(['Survived'])['Total_Passengers'].sum()"
   ]
  },
  {
   "cell_type": "markdown",
   "metadata": {},
   "source": [
    "**Of total 714 passengers in our sample, 40.6% survived.**"
   ]
  },
  {
   "cell_type": "code",
   "execution_count": 23,
   "metadata": {},
   "outputs": [
    {
     "data": {
      "text/plain": [
       "Child  Sex     Survived\n",
       "0      female  0            52\n",
       "               1           178\n",
       "       male    0           346\n",
       "               1            74\n",
       "1      female  0            12\n",
       "               1            19\n",
       "       male    0            14\n",
       "               1            19\n",
       "Name: Total_Passengers, dtype: int64"
      ]
     },
     "execution_count": 23,
     "metadata": {},
     "output_type": "execute_result"
    }
   ],
   "source": [
    "titanic_df_new2.groupby(['Child', 'Sex', 'Survived'])['Total_Passengers'].sum()"
   ]
  },
  {
   "cell_type": "markdown",
   "metadata": {},
   "source": [
    "** Women and children seems to have had more chance of surviving.**\n",
    "\n",
    "- 77.4% of women above 10 years old survived;\n",
    "- 59.4% of children below or equal to 10 years old survived;\n",
    "- 17.6% of men above 10 years old survived.\n",
    "\n",
    "Will be statistically tested as part of this assignment."
   ]
  },
  {
   "cell_type": "code",
   "execution_count": 24,
   "metadata": {},
   "outputs": [
    {
     "name": "stdout",
     "output_type": "stream",
     "text": [
      "Populating the interactive namespace from numpy and matplotlib\n"
     ]
    },
    {
     "data": {
      "text/plain": [
       "<matplotlib.text.Text at 0x1172dd0d0>"
      ]
     },
     "execution_count": 24,
     "metadata": {},
     "output_type": "execute_result"
    },
    {
     "data": {
      "image/png": "[encoded data removed]",
      "text/plain": [
       "<matplotlib.figure.Figure at 0x1171ba9d0>"
      ]
     },
     "metadata": {},
     "output_type": "display_data"
    }
   ],
   "source": [
    "%pylab inline\n",
    "\n",
    "titanic_df_new2['Age'].hist()\n",
    "\n",
    "pyplot.title('Age Groups of Titanic Passengers')\n",
    "pyplot.xlabel('Age Groups')\n",
    "pyplot.ylabel('Number of Passengers')"
   ]
  },
  {
   "cell_type": "markdown",
   "metadata": {
    "collapsed": true
   },
   "source": [
    "** Most people aboard the Titanic were between 20-40 years old**"
   ]
  },
  {
   "cell_type": "code",
   "execution_count": 25,
   "metadata": {},
   "outputs": [
    {
     "data": {
      "text/plain": [
       "Solo_Traveller\n",
       "0    272\n",
       "1    442\n",
       "Name: Total_Passengers, dtype: int64"
      ]
     },
     "execution_count": 25,
     "metadata": {},
     "output_type": "execute_result"
    }
   ],
   "source": [
    "titanic_df_new2.groupby(['Solo_Traveller'])['Total_Passengers'].sum()"
   ]
  },
  {
   "cell_type": "code",
   "execution_count": 26,
   "metadata": {},
   "outputs": [
    {
     "data": {
      "text/plain": [
       "<matplotlib.text.Text at 0x119887950>"
      ]
     },
     "execution_count": 26,
     "metadata": {},
     "output_type": "execute_result"
    },
    {
     "data": {
      "image/png": "[encoded data removed]",
      "text/plain": [
       "<matplotlib.figure.Figure at 0x1195a3590>"
      ]
     },
     "metadata": {},
     "output_type": "display_data"
    }
   ],
   "source": [
    "titanic_df_new2['Qty_Family_Members'].hist()\n",
    "\n",
    "\n",
    "pyplot.title('Family Sizes Aboard Titanic')\n",
    "pyplot.xlabel('Qty of Members of the Same Family')\n",
    "pyplot.ylabel('Number of Passengers')"
   ]
  },
  {
   "cell_type": "markdown",
   "metadata": {},
   "source": [
    "**Most people aboard were travelling solo (no family members by our criteria)** \n",
    "- 442 solo travellers out of 714 in our sample (61.9%)"
   ]
  },
  {
   "cell_type": "markdown",
   "metadata": {},
   "source": [
    "***\n",
    "**Solo travellers data exploration**"
   ]
  },
  {
   "cell_type": "code",
   "execution_count": 27,
   "metadata": {},
   "outputs": [],
   "source": [
    "titanic_df_solo = titanic_df_new2[titanic_df_new2['Solo_Traveller']== 1]"
   ]
  },
  {
   "cell_type": "code",
   "execution_count": 28,
   "metadata": {},
   "outputs": [
    {
     "data": {
      "text/html": [
       "<div>\n",
       "<table border=\"1\" class=\"dataframe\">\n",
       "  <thead>\n",
       "    <tr style=\"text-align: right;\">\n",
       "      <th></th>\n",
       "      <th>PassengerId</th>\n",
       "      <th>Survived</th>\n",
       "      <th>Pclass</th>\n",
       "      <th>Age</th>\n",
       "      <th>SibSp</th>\n",
       "      <th>Parch</th>\n",
       "      <th>Fare</th>\n",
       "      <th>Child</th>\n",
       "      <th>Male</th>\n",
       "      <th>Total_Passengers</th>\n",
       "      <th>Qty_Family_Members</th>\n",
       "      <th>Child_Presence</th>\n",
       "      <th>Solo_Traveller</th>\n",
       "    </tr>\n",
       "  </thead>\n",
       "  <tbody>\n",
       "    <tr>\n",
       "      <th>count</th>\n",
       "      <td>442.000000</td>\n",
       "      <td>442.000000</td>\n",
       "      <td>442.000000</td>\n",
       "      <td>442.000000</td>\n",
       "      <td>442.0</td>\n",
       "      <td>442.0</td>\n",
       "      <td>442.000000</td>\n",
       "      <td>442.000000</td>\n",
       "      <td>442.000000</td>\n",
       "      <td>442.0</td>\n",
       "      <td>442.0</td>\n",
       "      <td>442.000000</td>\n",
       "      <td>442.0</td>\n",
       "    </tr>\n",
       "    <tr>\n",
       "      <th>mean</th>\n",
       "      <td>457.595023</td>\n",
       "      <td>0.386878</td>\n",
       "      <td>2.219457</td>\n",
       "      <td>32.326742</td>\n",
       "      <td>0.0</td>\n",
       "      <td>0.0</td>\n",
       "      <td>29.300979</td>\n",
       "      <td>0.018100</td>\n",
       "      <td>0.696833</td>\n",
       "      <td>1.0</td>\n",
       "      <td>1.0</td>\n",
       "      <td>0.018100</td>\n",
       "      <td>1.0</td>\n",
       "    </tr>\n",
       "    <tr>\n",
       "      <th>std</th>\n",
       "      <td>261.353942</td>\n",
       "      <td>0.487587</td>\n",
       "      <td>0.843426</td>\n",
       "      <td>13.342693</td>\n",
       "      <td>0.0</td>\n",
       "      <td>0.0</td>\n",
       "      <td>53.819281</td>\n",
       "      <td>0.133463</td>\n",
       "      <td>0.460148</td>\n",
       "      <td>0.0</td>\n",
       "      <td>0.0</td>\n",
       "      <td>0.133463</td>\n",
       "      <td>0.0</td>\n",
       "    </tr>\n",
       "    <tr>\n",
       "      <th>min</th>\n",
       "      <td>2.000000</td>\n",
       "      <td>0.000000</td>\n",
       "      <td>1.000000</td>\n",
       "      <td>0.420000</td>\n",
       "      <td>0.0</td>\n",
       "      <td>0.0</td>\n",
       "      <td>0.000000</td>\n",
       "      <td>0.000000</td>\n",
       "      <td>0.000000</td>\n",
       "      <td>1.0</td>\n",
       "      <td>1.0</td>\n",
       "      <td>0.000000</td>\n",
       "      <td>1.0</td>\n",
       "    </tr>\n",
       "    <tr>\n",
       "      <th>25%</th>\n",
       "      <td>222.250000</td>\n",
       "      <td>0.000000</td>\n",
       "      <td>1.000000</td>\n",
       "      <td>22.000000</td>\n",
       "      <td>0.0</td>\n",
       "      <td>0.0</td>\n",
       "      <td>7.895800</td>\n",
       "      <td>0.000000</td>\n",
       "      <td>0.000000</td>\n",
       "      <td>1.0</td>\n",
       "      <td>1.0</td>\n",
       "      <td>0.000000</td>\n",
       "      <td>1.0</td>\n",
       "    </tr>\n",
       "    <tr>\n",
       "      <th>50%</th>\n",
       "      <td>456.500000</td>\n",
       "      <td>0.000000</td>\n",
       "      <td>2.000000</td>\n",
       "      <td>30.000000</td>\n",
       "      <td>0.0</td>\n",
       "      <td>0.0</td>\n",
       "      <td>12.318750</td>\n",
       "      <td>0.000000</td>\n",
       "      <td>1.000000</td>\n",
       "      <td>1.0</td>\n",
       "      <td>1.0</td>\n",
       "      <td>0.000000</td>\n",
       "      <td>1.0</td>\n",
       "    </tr>\n",
       "    <tr>\n",
       "      <th>75%</th>\n",
       "      <td>694.750000</td>\n",
       "      <td>1.000000</td>\n",
       "      <td>3.000000</td>\n",
       "      <td>40.000000</td>\n",
       "      <td>0.0</td>\n",
       "      <td>0.0</td>\n",
       "      <td>26.550000</td>\n",
       "      <td>0.000000</td>\n",
       "      <td>1.000000</td>\n",
       "      <td>1.0</td>\n",
       "      <td>1.0</td>\n",
       "      <td>0.000000</td>\n",
       "      <td>1.0</td>\n",
       "    </tr>\n",
       "    <tr>\n",
       "      <th>max</th>\n",
       "      <td>891.000000</td>\n",
       "      <td>1.000000</td>\n",
       "      <td>3.000000</td>\n",
       "      <td>80.000000</td>\n",
       "      <td>0.0</td>\n",
       "      <td>0.0</td>\n",
       "      <td>512.329200</td>\n",
       "      <td>1.000000</td>\n",
       "      <td>1.000000</td>\n",
       "      <td>1.0</td>\n",
       "      <td>1.0</td>\n",
       "      <td>1.000000</td>\n",
       "      <td>1.0</td>\n",
       "    </tr>\n",
       "  </tbody>\n",
       "</table>\n",
       "</div>"
      ],
      "text/plain": [
       "       PassengerId    Survived      Pclass         Age  SibSp  Parch  \\\n",
       "count   442.000000  442.000000  442.000000  442.000000  442.0  442.0   \n",
       "mean    457.595023    0.386878    2.219457   32.326742    0.0    0.0   \n",
       "std     261.353942    0.487587    0.843426   13.342693    0.0    0.0   \n",
       "min       2.000000    0.000000    1.000000    0.420000    0.0    0.0   \n",
       "25%     222.250000    0.000000    1.000000   22.000000    0.0    0.0   \n",
       "50%     456.500000    0.000000    2.000000   30.000000    0.0    0.0   \n",
       "75%     694.750000    1.000000    3.000000   40.000000    0.0    0.0   \n",
       "max     891.000000    1.000000    3.000000   80.000000    0.0    0.0   \n",
       "\n",
       "             Fare       Child        Male  Total_Passengers  \\\n",
       "count  442.000000  442.000000  442.000000             442.0   \n",
       "mean    29.300979    0.018100    0.696833               1.0   \n",
       "std     53.819281    0.133463    0.460148               0.0   \n",
       "min      0.000000    0.000000    0.000000               1.0   \n",
       "25%      7.895800    0.000000    0.000000               1.0   \n",
       "50%     12.318750    0.000000    1.000000               1.0   \n",
       "75%     26.550000    0.000000    1.000000               1.0   \n",
       "max    512.329200    1.000000    1.000000               1.0   \n",
       "\n",
       "       Qty_Family_Members  Child_Presence  Solo_Traveller  \n",
       "count               442.0      442.000000           442.0  \n",
       "mean                  1.0        0.018100             1.0  \n",
       "std                   0.0        0.133463             0.0  \n",
       "min                   1.0        0.000000             1.0  \n",
       "25%                   1.0        0.000000             1.0  \n",
       "50%                   1.0        0.000000             1.0  \n",
       "75%                   1.0        0.000000             1.0  \n",
       "max                   1.0        1.000000             1.0  "
      ]
     },
     "execution_count": 28,
     "metadata": {},
     "output_type": "execute_result"
    }
   ],
   "source": [
    "titanic_df_solo.describe()"
   ]
  },
  {
   "cell_type": "code",
   "execution_count": 29,
   "metadata": {},
   "outputs": [
    {
     "data": {
      "text/plain": [
       "Survived\n",
       "0    271\n",
       "1    171\n",
       "Name: Total_Passengers, dtype: int64"
      ]
     },
     "execution_count": 29,
     "metadata": {},
     "output_type": "execute_result"
    }
   ],
   "source": [
    "titanic_df_solo.groupby(['Survived'])['Total_Passengers'].sum()"
   ]
  },
  {
   "cell_type": "markdown",
   "metadata": {},
   "source": [
    "**Of the total 442 solo passengers, 38.7% survived.**"
   ]
  },
  {
   "cell_type": "code",
   "execution_count": 30,
   "metadata": {},
   "outputs": [
    {
     "data": {
      "text/plain": [
       "Child  Sex     Survived\n",
       "0      female  0            22\n",
       "               1           106\n",
       "       male    0           248\n",
       "               1            58\n",
       "1      female  0             1\n",
       "               1             5\n",
       "       male    1             2\n",
       "Name: Total_Passengers, dtype: int64"
      ]
     },
     "execution_count": 30,
     "metadata": {},
     "output_type": "execute_result"
    }
   ],
   "source": [
    "titanic_df_solo.groupby(['Child', 'Sex', 'Survived'])['Total_Passengers'].sum()"
   ]
  },
  {
   "cell_type": "markdown",
   "metadata": {},
   "source": [
    "** - Of all 8 children travelling solo (or with someone other than a family member), only 1 died.**<p>\n",
    "** - Of all solo adult females, 82.8% survived.**<p>\n",
    "** - Of all solo adult males, 19.0% survived. **"
   ]
  },
  {
   "cell_type": "markdown",
   "metadata": {},
   "source": [
    "***\n",
    "** Family travellers data exploration:**"
   ]
  },
  {
   "cell_type": "code",
   "execution_count": 31,
   "metadata": {},
   "outputs": [],
   "source": [
    "titanic_df_families = titanic_df_new2[titanic_df_new2['Solo_Traveller']== 0]"
   ]
  },
  {
   "cell_type": "code",
   "execution_count": 32,
   "metadata": {},
   "outputs": [
    {
     "data": {
      "text/html": [
       "<div>\n",
       "<table border=\"1\" class=\"dataframe\">\n",
       "  <thead>\n",
       "    <tr style=\"text-align: right;\">\n",
       "      <th></th>\n",
       "      <th>PassengerId</th>\n",
       "      <th>Survived</th>\n",
       "      <th>Pclass</th>\n",
       "      <th>Age</th>\n",
       "      <th>SibSp</th>\n",
       "      <th>Parch</th>\n",
       "      <th>Fare</th>\n",
       "      <th>Child</th>\n",
       "      <th>Male</th>\n",
       "      <th>Total_Passengers</th>\n",
       "      <th>Qty_Family_Members</th>\n",
       "      <th>Child_Presence</th>\n",
       "      <th>Solo_Traveller</th>\n",
       "    </tr>\n",
       "  </thead>\n",
       "  <tbody>\n",
       "    <tr>\n",
       "      <th>count</th>\n",
       "      <td>272.000000</td>\n",
       "      <td>272.000000</td>\n",
       "      <td>272.000000</td>\n",
       "      <td>272.000000</td>\n",
       "      <td>272.000000</td>\n",
       "      <td>272.000000</td>\n",
       "      <td>272.000000</td>\n",
       "      <td>272.000000</td>\n",
       "      <td>272.000000</td>\n",
       "      <td>272.0</td>\n",
       "      <td>272.000000</td>\n",
       "      <td>272.000000</td>\n",
       "      <td>272.0</td>\n",
       "    </tr>\n",
       "    <tr>\n",
       "      <th>mean</th>\n",
       "      <td>433.937500</td>\n",
       "      <td>0.437500</td>\n",
       "      <td>2.264706</td>\n",
       "      <td>25.429228</td>\n",
       "      <td>1.128676</td>\n",
       "      <td>0.974265</td>\n",
       "      <td>43.459008</td>\n",
       "      <td>0.205882</td>\n",
       "      <td>0.533088</td>\n",
       "      <td>1.0</td>\n",
       "      <td>3.066176</td>\n",
       "      <td>0.393382</td>\n",
       "      <td>0.0</td>\n",
       "    </tr>\n",
       "    <tr>\n",
       "      <th>std</th>\n",
       "      <td>255.245876</td>\n",
       "      <td>0.496993</td>\n",
       "      <td>0.830554</td>\n",
       "      <td>15.359852</td>\n",
       "      <td>1.200394</td>\n",
       "      <td>1.111529</td>\n",
       "      <td>50.297252</td>\n",
       "      <td>0.405090</td>\n",
       "      <td>0.499824</td>\n",
       "      <td>0.0</td>\n",
       "      <td>1.644412</td>\n",
       "      <td>0.489401</td>\n",
       "      <td>0.0</td>\n",
       "    </tr>\n",
       "    <tr>\n",
       "      <th>min</th>\n",
       "      <td>1.000000</td>\n",
       "      <td>0.000000</td>\n",
       "      <td>1.000000</td>\n",
       "      <td>0.670000</td>\n",
       "      <td>0.000000</td>\n",
       "      <td>0.000000</td>\n",
       "      <td>0.000000</td>\n",
       "      <td>0.000000</td>\n",
       "      <td>0.000000</td>\n",
       "      <td>1.0</td>\n",
       "      <td>2.000000</td>\n",
       "      <td>0.000000</td>\n",
       "      <td>0.0</td>\n",
       "    </tr>\n",
       "    <tr>\n",
       "      <th>25%</th>\n",
       "      <td>223.750000</td>\n",
       "      <td>0.000000</td>\n",
       "      <td>2.000000</td>\n",
       "      <td>15.750000</td>\n",
       "      <td>0.000000</td>\n",
       "      <td>0.000000</td>\n",
       "      <td>14.500000</td>\n",
       "      <td>0.000000</td>\n",
       "      <td>0.000000</td>\n",
       "      <td>1.0</td>\n",
       "      <td>2.000000</td>\n",
       "      <td>0.000000</td>\n",
       "      <td>0.0</td>\n",
       "    </tr>\n",
       "    <tr>\n",
       "      <th>50%</th>\n",
       "      <td>430.000000</td>\n",
       "      <td>0.000000</td>\n",
       "      <td>3.000000</td>\n",
       "      <td>24.500000</td>\n",
       "      <td>1.000000</td>\n",
       "      <td>1.000000</td>\n",
       "      <td>26.250000</td>\n",
       "      <td>0.000000</td>\n",
       "      <td>1.000000</td>\n",
       "      <td>1.0</td>\n",
       "      <td>2.000000</td>\n",
       "      <td>0.000000</td>\n",
       "      <td>0.0</td>\n",
       "    </tr>\n",
       "    <tr>\n",
       "      <th>75%</th>\n",
       "      <td>645.250000</td>\n",
       "      <td>1.000000</td>\n",
       "      <td>3.000000</td>\n",
       "      <td>35.250000</td>\n",
       "      <td>1.000000</td>\n",
       "      <td>2.000000</td>\n",
       "      <td>52.138550</td>\n",
       "      <td>0.000000</td>\n",
       "      <td>1.000000</td>\n",
       "      <td>1.0</td>\n",
       "      <td>3.000000</td>\n",
       "      <td>1.000000</td>\n",
       "      <td>0.0</td>\n",
       "    </tr>\n",
       "    <tr>\n",
       "      <th>max</th>\n",
       "      <td>888.000000</td>\n",
       "      <td>1.000000</td>\n",
       "      <td>3.000000</td>\n",
       "      <td>74.000000</td>\n",
       "      <td>5.000000</td>\n",
       "      <td>6.000000</td>\n",
       "      <td>263.000000</td>\n",
       "      <td>1.000000</td>\n",
       "      <td>1.000000</td>\n",
       "      <td>1.0</td>\n",
       "      <td>9.000000</td>\n",
       "      <td>1.000000</td>\n",
       "      <td>0.0</td>\n",
       "    </tr>\n",
       "  </tbody>\n",
       "</table>\n",
       "</div>"
      ],
      "text/plain": [
       "       PassengerId    Survived      Pclass         Age       SibSp  \\\n",
       "count   272.000000  272.000000  272.000000  272.000000  272.000000   \n",
       "mean    433.937500    0.437500    2.264706   25.429228    1.128676   \n",
       "std     255.245876    0.496993    0.830554   15.359852    1.200394   \n",
       "min       1.000000    0.000000    1.000000    0.670000    0.000000   \n",
       "25%     223.750000    0.000000    2.000000   15.750000    0.000000   \n",
       "50%     430.000000    0.000000    3.000000   24.500000    1.000000   \n",
       "75%     645.250000    1.000000    3.000000   35.250000    1.000000   \n",
       "max     888.000000    1.000000    3.000000   74.000000    5.000000   \n",
       "\n",
       "            Parch        Fare       Child        Male  Total_Passengers  \\\n",
       "count  272.000000  272.000000  272.000000  272.000000             272.0   \n",
       "mean     0.974265   43.459008    0.205882    0.533088               1.0   \n",
       "std      1.111529   50.297252    0.405090    0.499824               0.0   \n",
       "min      0.000000    0.000000    0.000000    0.000000               1.0   \n",
       "25%      0.000000   14.500000    0.000000    0.000000               1.0   \n",
       "50%      1.000000   26.250000    0.000000    1.000000               1.0   \n",
       "75%      2.000000   52.138550    0.000000    1.000000               1.0   \n",
       "max      6.000000  263.000000    1.000000    1.000000               1.0   \n",
       "\n",
       "       Qty_Family_Members  Child_Presence  Solo_Traveller  \n",
       "count          272.000000      272.000000           272.0  \n",
       "mean             3.066176        0.393382             0.0  \n",
       "std              1.644412        0.489401             0.0  \n",
       "min              2.000000        0.000000             0.0  \n",
       "25%              2.000000        0.000000             0.0  \n",
       "50%              2.000000        0.000000             0.0  \n",
       "75%              3.000000        1.000000             0.0  \n",
       "max              9.000000        1.000000             0.0  "
      ]
     },
     "execution_count": 32,
     "metadata": {},
     "output_type": "execute_result"
    }
   ],
   "source": [
    "titanic_df_families.describe()"
   ]
  },
  {
   "cell_type": "code",
   "execution_count": 33,
   "metadata": {},
   "outputs": [
    {
     "data": {
      "text/plain": [
       "Survived\n",
       "0    153\n",
       "1    119\n",
       "Name: Total_Passengers, dtype: int64"
      ]
     },
     "execution_count": 33,
     "metadata": {},
     "output_type": "execute_result"
    }
   ],
   "source": [
    "titanic_df_families.groupby(['Survived'])['Total_Passengers'].sum()"
   ]
  },
  {
   "cell_type": "markdown",
   "metadata": {},
   "source": [
    "Of total 272 passengers travelling with a family member, 43.8% survived. "
   ]
  },
  {
   "cell_type": "code",
   "execution_count": 34,
   "metadata": {},
   "outputs": [
    {
     "data": {
      "text/plain": [
       "Child  Sex     Survived\n",
       "0      female  0           30\n",
       "               1           72\n",
       "       male    0           98\n",
       "               1           16\n",
       "1      female  0           11\n",
       "               1           14\n",
       "       male    0           14\n",
       "               1           17\n",
       "Name: Total_Passengers, dtype: int64"
      ]
     },
     "execution_count": 34,
     "metadata": {},
     "output_type": "execute_result"
    }
   ],
   "source": [
    "titanic_df_families.groupby(['Child', 'Sex', 'Survived'])['Total_Passengers'].sum()"
   ]
  },
  {
   "cell_type": "markdown",
   "metadata": {},
   "source": [
    "** - Of all 56 children travelling with family members, 31 survived (55.4%).**<p>\n",
    "** - Of all adult females travelling with family members, 70.6% survived.**<p>\n",
    "** - Of all adult males travelling with family members, 14.0% survived. **"
   ]
  },
  {
   "cell_type": "markdown",
   "metadata": {},
   "source": [
    "## Step 4: Statistical Analysis"
   ]
  },
  {
   "cell_type": "markdown",
   "metadata": {},
   "source": [
    "The most appropriate statistical test to draw conclusions about Titanic survivors is the **chi-square test of homogeneity** for a few reasons:<br>\n",
    "1. The sampling method is a simple random sampling;\n",
    "2. The variables are categorical;\n",
    "\n",
    "Test restriction: the expected frequency count should be at least 5 in each population at each level of the categorical variable. If not, data must be re-grouped in a way the minimum value is respected or conclusions cannot be drawed from the data.\n",
    "\n",
    "Chi-square test formula:\n",
    "$$\n",
    "\\chi^2 = \\sum\\frac{(O_i - E_i)^2}{E_i}\n",
    "$$\n",
    "\n",
    "where:<br>\n",
    "$O_i$ is the observed value;<br>\n",
    "$E_i$ is the expected value."
   ]
  },
  {
   "cell_type": "markdown",
   "metadata": {},
   "source": [
    "***\n",
    "### Graph Functions: \n",
    "\n",
    "Before stepping into statistical analysis, I'll define functions to create graphs from all results. <br>\n",
    "This can be done because all tests have similar outputs."
   ]
  },
  {
   "cell_type": "code",
   "execution_count": 35,
   "metadata": {
    "collapsed": true
   },
   "outputs": [],
   "source": [
    "# graph 1 ==> bar chart 2x2\n",
    "\n",
    "def bar_chart(o1, o2, e1, e2, y_min, y_max, title, y_label, x_tick1, x_tick2):\n",
    "    # o1 => observed1 value\n",
    "    # o2 => observed2 value\n",
    "    # e1 => expected1 value\n",
    "    # e2 => expected2 value\n",
    "    \n",
    "    fig = plt.figure()\n",
    "    ax = fig.add_subplot(111)\n",
    "\n",
    "    ## the data\n",
    "    N = 2\n",
    "    observed = [o1, o2]\n",
    "    expected = [e1, e2]\n",
    "\n",
    "\n",
    "    ## necessary variables\n",
    "    ind = np.arange(N)                # the x locations for the groups\n",
    "    width = 0.35                      # the width of the bars\n",
    "\n",
    "    ## the bars\n",
    "    \n",
    "\n",
    "    def autolabel(rects):\n",
    "    # attach some text labels\n",
    "        for rect in rects:\n",
    "            height = rect.get_height()\n",
    "            ax.text(rect.get_x() + rect.get_width()/2., 1.05*height,\n",
    "                    '%d' % int(height),\n",
    "                    ha='center', va='bottom')\n",
    "    \n",
    "    rects1 = ax.bar(ind, observed, width, color='gold',\n",
    "                error_kw=dict(elinewidth=2,ecolor='red'))\n",
    "\n",
    "    rects2 = ax.bar(ind+width, expected, width, color='lightskyblue',                    \n",
    "                    error_kw=dict(elinewidth=2,ecolor='black'))\n",
    "\n",
    "\n",
    "    ax.set_xlim(-width,len(ind)+width)\n",
    "    ax.set_ylim(y_min,y_max)\n",
    "    ax.set_ylabel(y_label)\n",
    "    ax.set_title(title)\n",
    "    xTickMarks = [x_tick1, x_tick2]\n",
    "    ax.set_xticks(ind+width)\n",
    "    xtickNames = ax.set_xticklabels(xTickMarks)\n",
    "    plt.setp(xtickNames, rotation=0, fontsize=10)\n",
    "\n",
    "\n",
    "    ax.legend( (rects1[0], rects2[0]), ('Observed', 'Expected') )\n",
    "\n",
    "    autolabel(rects1)\n",
    "    autolabel(rects2)\n",
    "\n",
    "    return plt.show()\n",
    "    "
   ]
  },
  {
   "cell_type": "code",
   "execution_count": 36,
   "metadata": {
    "collapsed": true
   },
   "outputs": [],
   "source": [
    "# graph 2 ==> pie chart 2 slices\n",
    "\n",
    "def pie_chart(title, slice1_size, slice2_size, slice1_name, slice2_name, startangle):\n",
    "\n",
    "\n",
    "    labels = slice1_name, slice2_name\n",
    "    sizes = [slice1_size, slice2_size]\n",
    "    colors = ['gold', 'lightskyblue']\n",
    "    explode = (0.1, 0)\n",
    " \n",
    "    plt.pie(sizes, explode=explode, labels=labels, colors=colors,\n",
    "            autopct='%1.1f%%', shadow=True, startangle=startangle)\n",
    "    \n",
    "    plt.title(title)\n",
    " \n",
    "    plt.axis('equal')\n",
    "\n",
    "    return plt.show()"
   ]
  },
  {
   "cell_type": "markdown",
   "metadata": {},
   "source": [
    "***\n",
    "### Statistical test #1: Did gender influence survival rate?\n",
    "\n",
    "**Null hypotesis (H0)**: Males and females had the same chance of survival.<br>\n",
    "**Alternative hypotesis (H1)**: Males and females differed in their chances of survival.\n",
    "\n",
    "**Significance level**: p = 0.05 (5%)\n",
    "\n",
    "**Degrees of freedom**: (rows - 1) * (columns - 1) = (2 - 1) * (2 - 1) = 1 DF."
   ]
  },
  {
   "cell_type": "code",
   "execution_count": 37,
   "metadata": {},
   "outputs": [
    {
     "data": {
      "text/plain": [
       "Sex     Survived\n",
       "female  0            64\n",
       "        1           197\n",
       "male    0           360\n",
       "        1            93\n",
       "Name: Total_Passengers, dtype: int64"
      ]
     },
     "execution_count": 37,
     "metadata": {},
     "output_type": "execute_result"
    }
   ],
   "source": [
    "titanic_df_new2.groupby(['Sex', 'Survived'])['Total_Passengers'].sum()"
   ]
  },
  {
   "cell_type": "markdown",
   "metadata": {},
   "source": [
    "First, let's beautify the the observed values about gender survival aboard the Titanic:\n",
    "\n",
    "| | Observed Survivals | Observed Deaths | Total\n",
    "| :------------- |:-------:| :-------:|:-------:\n",
    "| Male | 93 | 360 | 453\n",
    "| Female | 197 | 64 | 261\n",
    "| Total | 290 | 424 | 714\n"
   ]
  },
  {
   "cell_type": "markdown",
   "metadata": {},
   "source": [
    "We expect each person aboard to have the same fair chance of surviving no matter its gender. \n",
    "\n",
    "Expected values:\n",
    "\n",
    "$$\n",
    "Expected = \\frac{Total_{column} * Total_{Row}}{Total}\n",
    "$$\n",
    "\n",
    "| | Expected Survivals | Expected Deaths | Total\n",
    "| :------------- |:-------:| :-------:|:-------:\n",
    "| Male | 184.0 | 269.0 | 453\n",
    "| Female | 106.0 | 155.0 | 261\n",
    "| Total | 290 | 424 | 714"
   ]
  },
  {
   "cell_type": "code",
   "execution_count": 38,
   "metadata": {},
   "outputs": [
    {
     "data": {
      "image/png": "[encoded data removed]",
      "text/plain": [
       "<matplotlib.figure.Figure at 0x119b56d10>"
      ]
     },
     "metadata": {},
     "output_type": "display_data"
    }
   ],
   "source": [
    "pie_chart('Male Survival Rate', 93, 360, 'Survived', 'Died', 140)"
   ]
  },
  {
   "cell_type": "code",
   "execution_count": 39,
   "metadata": {},
   "outputs": [
    {
     "data": {
      "image/png": "[encoded data removed]",
      "text/plain": [
       "<matplotlib.figure.Figure at 0x119b98d90>"
      ]
     },
     "metadata": {},
     "output_type": "display_data"
    }
   ],
   "source": [
    "pie_chart('Female Survival Rate', 197, 64, 'Survived', 'Died', 60)"
   ]
  },
  {
   "cell_type": "code",
   "execution_count": 40,
   "metadata": {},
   "outputs": [
    {
     "data": {
      "image/png": "[encoded data removed]",
      "text/plain": [
       "<matplotlib.figure.Figure at 0x119b11590>"
      ]
     },
     "metadata": {},
     "output_type": "display_data"
    }
   ],
   "source": [
    "bar_chart(93, 197, 184, 106, 0, 250, 'Survivors by Gender', 'Survivors', 'Male', 'Female')"
   ]
  },
  {
   "cell_type": "markdown",
   "metadata": {},
   "source": [
    "$$\n",
    "\\chi^2 = \\frac{(93 - 184)^2}{184} + \\frac{(360 - 269)^2}{269} + \\frac{(197 - 106)^2}{106} + \\frac{(64 - 155)^2}{155} = 207.3\n",
    "$$"
   ]
  },
  {
   "cell_type": "markdown",
   "metadata": {
    "collapsed": true
   },
   "source": [
    "Using the chi-square critical values table, we find the critical value for 1 degree of freedom and p = 0.05:\n",
    "\n",
    "$$\n",
    "\\chi^2_{0.05} = 3.841\n",
    "$$"
   ]
  },
  {
   "cell_type": "markdown",
   "metadata": {},
   "source": [
    "** Statistical test # 1 conclusion:**\n",
    "<p>\n",
    "The chi-square value of 207.3 with 1 degree of freedom is above the critical value of 3.841 at p-value = 0.05.\n",
    "<p>\n",
    "**We reject H0. The expected survival rate is not independent from gender. Women had more chance of survival.**"
   ]
  },
  {
   "cell_type": "markdown",
   "metadata": {},
   "source": [
    "***\n",
    "### Statistical test #2: Did adulthood influence survival rate?\n",
    "\n",
    "**Null hypotesis (H0)**: Adults and children had the same chances of survival.<br>\n",
    "**Alternative hypotesis (H1)**: Adults and children differed in their chances of survival.\n",
    "\n",
    "**Significance level**: p = 0.05 (5%)\n",
    "\n",
    "**Degrees of freedom**: (rows - 1) * (columns - 1) = (2 - 1) * (2 - 1) = 1 DF.\n",
    "\n",
    "**Recapturing our childhood / adulthood assumption:**\n",
    "    * Adults: > 10 years of age\n",
    "    * Children: <= 10 years of age"
   ]
  },
  {
   "cell_type": "code",
   "execution_count": 46,
   "metadata": {},
   "outputs": [
    {
     "data": {
      "text/plain": [
       "Child  Survived\n",
       "0      0           398\n",
       "       1           252\n",
       "1      0            26\n",
       "       1            38\n",
       "Name: Total_Passengers, dtype: int64"
      ]
     },
     "execution_count": 46,
     "metadata": {},
     "output_type": "execute_result"
    }
   ],
   "source": [
    "titanic_df_new2.groupby(['Child', 'Survived'])['Total_Passengers'].sum()"
   ]
  },
  {
   "cell_type": "markdown",
   "metadata": {},
   "source": [
    "Beautifying our table of observed values:\n",
    "\n",
    "| | Observed Survivals | Observed Deaths | Total\n",
    "| :------------- |:-------:| :-------:|:-------:\n",
    "| Adult | 252 | 398 | 650\n",
    "| Child | 38 | 26 | 64\n",
    "| Total | 290 | 424 | 714"
   ]
  },
  {
   "cell_type": "markdown",
   "metadata": {},
   "source": [
    "We expect each person aboard to have the same fair chance of surviving no matter its age. \n",
    "\n",
    "Expected values:\n",
    "\n",
    "$$\n",
    "Expected = \\frac{Total_{column} * Total_{Row}}{Total}\n",
    "$$\n",
    "\n",
    "| | Expected Survivals | Expected Deaths | Total\n",
    "| :------------- |:-------:| :-------:|:-------:\n",
    "| Adult | 264.0 | 386.0 | 650\n",
    "| Child | 26.0 | 38.0 | 64\n",
    "| Total | 290 | 424 | 714"
   ]
  },
  {
   "cell_type": "code",
   "execution_count": 47,
   "metadata": {},
   "outputs": [
    {
     "data": {
      "image/png": "[encoded data removed]",
      "text/plain": [
       "<matplotlib.figure.Figure at 0x119ef1bd0>"
      ]
     },
     "metadata": {},
     "output_type": "display_data"
    }
   ],
   "source": [
    "pie_chart('Adults Survival Rate', 252, 398, 'Survived', 'Died', 110)"
   ]
  },
  {
   "cell_type": "code",
   "execution_count": 48,
   "metadata": {},
   "outputs": [
    {
     "data": {
      "image/png": "[encoded data removed]",
      "text/plain": [
       "<matplotlib.figure.Figure at 0x119fc7810>"
      ]
     },
     "metadata": {},
     "output_type": "display_data"
    }
   ],
   "source": [
    "pie_chart('Children Survival Rate', 38, 26, 'Survived', 'Died', 80)"
   ]
  },
  {
   "cell_type": "code",
   "execution_count": 49,
   "metadata": {},
   "outputs": [
    {
     "data": {
      "image/png": "[encoded data removed]",
      "text/plain": [
       "<matplotlib.figure.Figure at 0x11a0ea710>"
      ]
     },
     "metadata": {},
     "output_type": "display_data"
    }
   ],
   "source": [
    "bar_chart(252, 38, 264, 26, 0, 320, 'Survivors by Age Group', 'Survivors', 'Adult', 'Child')"
   ]
  },
  {
   "cell_type": "markdown",
   "metadata": {},
   "source": [
    "$$\n",
    "\\chi^2 = \\frac{(252 - 264)^2}{264} + \\frac{(398 - 386)^2}{386} + \\frac{(38 - 26)^2}{26} + \\frac{(26 - 38)^2}{38} = 10.26\n",
    "$$"
   ]
  },
  {
   "cell_type": "markdown",
   "metadata": {
    "collapsed": true
   },
   "source": [
    "Using the chi-square critical values table, we find the critical value for 1 degree of freedom and p = 0.05:\n",
    "\n",
    "$$\n",
    "\\chi^2_{0.05} = 3.841\n",
    "$$"
   ]
  },
  {
   "cell_type": "markdown",
   "metadata": {},
   "source": [
    "** Statistical test # 2 conclusion:**\n",
    "<p>\n",
    "The chi-square value of 10.26 with 1 degree of freedom is above the critical value of 3.841 at p-value = 0.05.\n",
    "<p>\n",
    "**We reject H0. The expected survival rate is not independent from age. <br>\n",
    "Children had more chances of survival: 59.4% for children against 48.8% for adults.**"
   ]
  },
  {
   "cell_type": "markdown",
   "metadata": {},
   "source": [
    "***\n",
    "### Statistical test #3: Did family members' survival rate differ from those travelling solo?\n",
    "\n",
    "**Null hypotesis (H0)**: People travelling in family groups had the same chances of survival as solo travellers.<br>\n",
    "**Alternative hypotesis (H1)**: Family members and solo travellers differed in their chances of survival.\n",
    "\n",
    "**Significance level**: p = 0.05 (5%)\n",
    "\n",
    "**Degrees of freedom**: (rows - 1) * (columns - 1) = (2 - 1) * (2 - 1) = 1 DF."
   ]
  },
  {
   "cell_type": "code",
   "execution_count": 50,
   "metadata": {},
   "outputs": [
    {
     "data": {
      "text/plain": [
       "Solo_Traveller  Survived\n",
       "0               0           153\n",
       "                1           119\n",
       "1               0           271\n",
       "                1           171\n",
       "Name: Total_Passengers, dtype: int64"
      ]
     },
     "execution_count": 50,
     "metadata": {},
     "output_type": "execute_result"
    }
   ],
   "source": [
    "titanic_df_new2.groupby(['Solo_Traveller', 'Survived'])['Total_Passengers'].sum()"
   ]
  },
  {
   "cell_type": "markdown",
   "metadata": {},
   "source": [
    "Beautifying our table of observed values:\n",
    "\n",
    "| | Observed Survivals | Observed Deaths | Total\n",
    "| :------------- |:-------:| :-------:|:-------:\n",
    "| Family Member | 119 | 153 | 272\n",
    "| Solo Traveller | 171 | 271 | 442\n",
    "| Total | 290 | 424 | 714"
   ]
  },
  {
   "cell_type": "markdown",
   "metadata": {},
   "source": [
    "We expect each person aboard to have the same fair chance of surviving no matter if travelling alone or as a family member. \n",
    "\n",
    "Expected values:\n",
    "\n",
    "$$\n",
    "Expected = \\frac{Total_{column} * Total_{Row}}{Total}\n",
    "$$\n",
    "\n",
    "| | Expected Survivals | Expected Deaths | Total\n",
    "| :------------- |:-------:| :-------:|:-------:\n",
    "| Family Member | 110.5 | 161.5 | 272\n",
    "| Solo Traveller | 179.5 | 262.5 | 442\n",
    "| Total | 290 | 424 | 714"
   ]
  },
  {
   "cell_type": "code",
   "execution_count": 51,
   "metadata": {},
   "outputs": [
    {
     "data": {
      "image/png": "[encoded data removed]",
      "text/plain": [
       "<matplotlib.figure.Figure at 0x11a287f90>"
      ]
     },
     "metadata": {},
     "output_type": "display_data"
    }
   ],
   "source": [
    "pie_chart('Family Members Survival Rate', 119, 153, 'Survived', 'Died', 110)"
   ]
  },
  {
   "cell_type": "code",
   "execution_count": 52,
   "metadata": {},
   "outputs": [
    {
     "data": {
      "image/png": "[encoded data removed]",
      "text/plain": [
       "<matplotlib.figure.Figure at 0x11a3c1290>"
      ]
     },
     "metadata": {},
     "output_type": "display_data"
    }
   ],
   "source": [
    "pie_chart('Solo Travellers Survival Rate', 171, 271, 'Survived', 'Died', 110)"
   ]
  },
  {
   "cell_type": "code",
   "execution_count": 53,
   "metadata": {},
   "outputs": [
    {
     "data": {
      "image/png": "[encoded data removed]",
      "text/plain": [
       "<matplotlib.figure.Figure at 0x11a645fd0>"
      ]
     },
     "metadata": {},
     "output_type": "display_data"
    }
   ],
   "source": [
    "bar_chart(119, 171, 110.5, 179.5, 0, 220, 'Survivors by Family Aboard Status ', 'Survivors', 'Family Member', 'Solo Traveller')"
   ]
  },
  {
   "cell_type": "markdown",
   "metadata": {},
   "source": [
    "$$\n",
    "\\chi^2 = \\frac{(119 - 110.5)^2}{110.5} + \\frac{(153 - 161.5)^2}{161.5} + \\frac{(171 - 179.5)^2}{179.5} + \\frac{(271 - 262.5)^2}{262.5} = 1.79\n",
    "$$"
   ]
  },
  {
   "cell_type": "markdown",
   "metadata": {
    "collapsed": true
   },
   "source": [
    "Using the chi-square critical values table, we find the critical value for 1 degree of freedom and p = 0.05:\n",
    "\n",
    "$$\n",
    "\\chi^2_{0.05} = 3.841\n",
    "$$"
   ]
  },
  {
   "cell_type": "markdown",
   "metadata": {},
   "source": [
    "** Statistical test # 3 conclusion:**\n",
    "<p>\n",
    "The chi-square value of 1.79 with 1 degree of freedom is below the critical value of 3.841 at p-value = 0.05.\n",
    "<p>\n",
    "**We fail to reject H0. There's no statistical difference between passengers travelling solo and those part of family groups.**"
   ]
  },
  {
   "cell_type": "markdown",
   "metadata": {},
   "source": [
    "***\n",
    "### Statistical test #4: Did children presence in a family influence its members survival rate?\n",
    "\n",
    "**Null hypotesis (H0)**: People travelling as a member of a family with children had the same chances of survival as family memebers with no children among them.<br>\n",
    "**Alternative hypotesis (H1)**: H0 is false. Childrens presence influence family members survival rate.\n",
    "\n",
    "**Significance level**: p = 0.05 (5%)\n",
    "\n",
    "**Degrees of freedom**: (rows - 1) * (columns - 1) = (2 - 1) * (2 - 1) = 1 DF."
   ]
  },
  {
   "cell_type": "code",
   "execution_count": 54,
   "metadata": {},
   "outputs": [
    {
     "data": {
      "text/plain": [
       "Solo_Traveller  Child_Presence  Survived\n",
       "0               0               0           94\n",
       "                                1           71\n",
       "                1               0           59\n",
       "                                1           48\n",
       "Name: Total_Passengers, dtype: int64"
      ]
     },
     "execution_count": 54,
     "metadata": {},
     "output_type": "execute_result"
    }
   ],
   "source": [
    "titanic_df_families = titanic_df_new2[titanic_df_new2['Solo_Traveller']==0]\n",
    "\n",
    "titanic_df_families.groupby(['Solo_Traveller', 'Child_Presence', 'Survived'])['Total_Passengers'].sum()"
   ]
  },
  {
   "cell_type": "markdown",
   "metadata": {},
   "source": [
    "Note: 'Solo_Traveller' was just a check. We already filtered families."
   ]
  },
  {
   "cell_type": "markdown",
   "metadata": {},
   "source": [
    "Beautifying our table of observed values:\n",
    "\n",
    "| | Observed Survivals | Observed Deaths | Total\n",
    "| :------------- |:-------:| :-------:|:-------:\n",
    "| Members of Families With Children  | 71 | 94 | 165\n",
    "| Members of Families Without Children | 48 | 59 | 107\n",
    "| Total | 119 | 153 | 272"
   ]
  },
  {
   "cell_type": "markdown",
   "metadata": {},
   "source": [
    "We expect each person aboard as part of a family to have the same fair chance of surviving no matter if travelling with or without children. \n",
    "\n",
    "Expected values:\n",
    "\n",
    "$$\n",
    "Expected = \\frac{Total_{column} * Total_{Row}}{Total}\n",
    "$$\n",
    "\n",
    "| | Expected Survivals | Expected Deaths | Total\n",
    "| :------------- |:-------:| :-------:|:-------:\n",
    "| Members of Families With Children | 72.2 | 92.8 | 165\n",
    "| Members of Families Without Children | 46.8 | 60.2 | 107\n",
    "| Total | 119 | 153 | 272"
   ]
  },
  {
   "cell_type": "code",
   "execution_count": 55,
   "metadata": {},
   "outputs": [
    {
     "data": {
      "image/png": "[encoded data removed]",
      "text/plain": [
       "<matplotlib.figure.Figure at 0x11a854c50>"
      ]
     },
     "metadata": {},
     "output_type": "display_data"
    }
   ],
   "source": [
    "pie_chart('Families with Children Survival Rate', 71, 94, 'Survived', 'Died', 110)"
   ]
  },
  {
   "cell_type": "code",
   "execution_count": 56,
   "metadata": {},
   "outputs": [
    {
     "data": {
      "image/png": "[encoded data removed]",
      "text/plain": [
       "<matplotlib.figure.Figure at 0x11a9f0510>"
      ]
     },
     "metadata": {},
     "output_type": "display_data"
    }
   ],
   "source": [
    "pie_chart('Families without Children Survival Rate', 48, 59, 'Survived', 'Died', 110)"
   ]
  },
  {
   "cell_type": "code",
   "execution_count": 57,
   "metadata": {},
   "outputs": [
    {
     "data": {
      "image/png": "[encoded data removed]",
      "text/plain": [
       "<matplotlib.figure.Figure at 0x11a9f0c50>"
      ]
     },
     "metadata": {},
     "output_type": "display_data"
    }
   ],
   "source": [
    "bar_chart(71, 48, 72.2, 46.8, 0, 100, 'Survivors by Presence of Children in the Family', 'Survivors', 'Families with Children', 'Families without Children')"
   ]
  },
  {
   "cell_type": "markdown",
   "metadata": {},
   "source": [
    "$$\n",
    "\\chi^2 = \\frac{(71 - 72.2)^2}{72.2} + \\frac{(94 - 92.8)^2}{92.8} + \\frac{(48 - 46.8)^2}{46.8} + \\frac{(59 - 60.2)^2}{60.2} = 0.09\n",
    "$$"
   ]
  },
  {
   "cell_type": "markdown",
   "metadata": {
    "collapsed": true
   },
   "source": [
    "Using the chi-square critical values table, we find the critical value for 1 degree of freedom and p = 0.05:\n",
    "\n",
    "$$\n",
    "\\chi^2_{0.05} = 3.841\n",
    "$$"
   ]
  },
  {
   "cell_type": "markdown",
   "metadata": {},
   "source": [
    "** Statistical test # 4 conclusion:**\n",
    "<p>\n",
    "The chi-square value of 0.09 with 1 degree of freedom is below the critical value of 3.841 at p-value = 0.05.\n",
    "<p>\n",
    "**We fail to reject H0. There's no statistical difference between familiy members travelling with children and family members travelling without children.**"
   ]
  },
  {
   "cell_type": "markdown",
   "metadata": {},
   "source": [
    "## Step 5: Conclusions"
   ]
  },
  {
   "cell_type": "markdown",
   "metadata": {},
   "source": [
    "The present analisys intended to demonstrate the correlation between the survival rate of passengers and their age, gender and the presence of family members aboard. \n",
    "<p>\n",
    "In those cases where data was found statistically correlated, it's not possible to infer causation. To do so, further research need to be performed, either quantitative or qualitative, which is beyond the scope of the present work.\n",
    "<p>\n",
    "Among the analised variables, the highest correlation stands between gender and survival rate. Being a woman aboard raised the person's survival rate to 85.8% above its fair share. Naturally, being a man lowered a person's survival rate accordingly, being 49.5% lower than its fair share. \n",
    "<p>\n",
    "Children chances of survival were slightly higher than adults. Still, statistically significant. The criteria used to define a child was a person 10 years old or below. This criteria was arbitrarily chosen, based not on legal age, but instead on an age cut low enough for others aboard to perceive the child as so. The idea behind it was to raise the issue of if, during actual extreme situations, the \"women and children first criteria\" was followed. In spite of not proving causation, both this and the previous results raise the need for further investigation in the future.\n",
    "<p>\n",
    "On the other hand, the presence of family members aboard did not correlate statistically to survival rate. The presence of a child in a family didn't correlate to survival rate of family members either.\n",
    "The idea behind the analysis was to raise the question of if solo travellers would be quicker at securing a place in a life boat, or if family members would make an extra effort to 'squeeze' a relative aboard a life boat. "
   ]
  }
 ],
 "metadata": {
  "anaconda-cloud": {},
  "kernelspec": {
   "display_name": "Python 2",
   "language": "python",
   "name": "python2"
  },
  "language_info": {
   "codemirror_mode": {
    "name": "ipython",
    "version": 2
   },
   "file_extension": ".py",
   "mimetype": "text/x-python",
   "name": "python",
   "nbconvert_exporter": "python",
   "pygments_lexer": "ipython2",
   "version": "2.7.14"
  }
 },
 "nbformat": 4,
 "nbformat_minor": 1
}
