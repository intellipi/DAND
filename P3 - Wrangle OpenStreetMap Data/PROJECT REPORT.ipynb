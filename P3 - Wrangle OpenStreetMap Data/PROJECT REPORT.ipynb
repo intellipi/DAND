{
 "cells": [
  {
   "cell_type": "markdown",
   "metadata": {},
   "source": [
    "# OpenStreetMap Data Case Study [SQL]\n",
    "***\n",
    "<P>\n",
    "### Student: Daniel de Carvalho Rust\n",
    "### Date: March 26th 2017\n",
    "***"
   ]
  },
  {
   "cell_type": "markdown",
   "metadata": {},
   "source": [
    "![Rio de Janeiro Image](rio.jpeg \"Rio de Janeiro, Brazil\")"
   ]
  },
  {
   "cell_type": "markdown",
   "metadata": {},
   "source": [
    "## Map Region: Brazil, Rio de Janeiro Metropolitan Area\n",
    "\n",
    "I've chosen to analyze an extract of Rio de Janeiro, Brazil (my hometown) using SQL.\n",
    "\n",
    "The data was obtained from [Mapzen](https://s3.amazonaws.com/metro-extracts.mapzen.com/rio-de-janeiro_brazil.osm.bz2 \"OSM File\"). For code evaluation purposes, a sample file with every 10th element was created using the [sample.py](sample.py) code."
   ]
  },
  {
   "cell_type": "markdown",
   "metadata": {},
   "source": [
    "***\n",
    "## 1. XML Structure\n",
    "<p>\n",
    "The XML structure is important to understand what to expect from the data we will analyze. The meaning of elements and its attributes, data type, etc. It makes easier to spot inconsistencies to be fixed and information that can be safely ignored.\n",
    "***"
   ]
  },
  {
   "cell_type": "markdown",
   "metadata": {},
   "source": [
    "### 1.1 Main Elements: **`<node>`**, **`<way>`** and **`<relation>`** "
   ]
  },
  {
   "cell_type": "markdown",
   "metadata": {},
   "source": [
    "According to OpenStreetMap Wiki ([link](http://wiki.openstreetmap.org/w/index.php?title=Elements&redirect=no)):\n",
    "\n",
    "> Elements are the basic components of OpenStreetMap's conceptual data model of the physical world. They consist of\n",
    "1. **`<node>`** (defining points in space) [wiki](http://wiki.openstreetmap.org/wiki/Node) , \n",
    "2. **`<way>`** (defining linear features and area boundaries) [wiki](http://wiki.openstreetmap.org/wiki/Way), and\n",
    "3. **`<relation>`** (which are sometimes used to explain how other elements work together) [wiki](http://wiki.openstreetmap.org/wiki/Relation).\n",
    "\n",
    "<p>\n",
    "**A `<node>` is a single point in space** defined by its latitude, longitude and node id.\n",
    "<p>\n",
    "**A `<way>` is an ordered list of nodes**, which can be open or closed.<br> A closed way is one whose last node on the way is also the first on that way. A closed way may be interpreted either as a closed polyline, or an area, or both.\n",
    "<p>\n",
    "**A `<relation>` defines logical or geographic relationships between other elements**.\n"
   ]
  },
  {
   "cell_type": "markdown",
   "metadata": {},
   "source": [
    "### 1.2  Main Elements Common Attributes"
   ]
  },
  {
   "cell_type": "markdown",
   "metadata": {},
   "source": [
    "Each **`<node>`**, **`<way>`** or **`<relation>`** element may or may not have **attributes** associated to them. Again according to [wiki](http://wiki.openstreetmap.org/w/index.php?title=Elements&redirect=no#Node):\n",
    "\n",
    "> ###### Common attributes <br>\n",
    "> Within the OSM database, we store these attributes for nodes, ways and relations. Your application may not need to make use of all of them, and some third-party extracts produced from OSM data may not reproduce them all.\n",
    "1. **`@id`**: Used for identifying the element. **Element types have their own ID space, so there could be a node with id=100 and a way with id=100, which are unlikely to be related or geographically near to each other.**\n",
    "2. **`@user`**: The display name of the user who last modified the object (informative only and may be empty).\n",
    "3. **`@uid`**: The numeric identifier of the user who last modified the object. An user identifier never changes.\n",
    "4. **`@timestamp`**: W3C standard date and time formats.\tTime of the last modification.\n",
    "5. **`@visible`**: Whether the object is deleted or not in the database, if visible=\"false\" then the object should only be returned by history calls.\n",
    "6. **`@version`**: The edit version of the object. Newly created objects start at version 1 and the value is incremented by the server when a client uploads a new version of the object.\n",
    "7. **`@changeset`**: The changeset number in which the object was created or updated                                                                                                                                                                         "
   ]
  },
  {
   "cell_type": "markdown",
   "metadata": {},
   "source": [
    "### 1.3 Child Element: `<tag>`"
   ]
  },
  {
   "cell_type": "markdown",
   "metadata": {},
   "source": [
    "**`<tag>`** elements are always child elements of nodes, ways and relations. <br>\n",
    "Those, on the other hand, may or may not have nested `<tag>` elements.\n",
    "<p>\n",
    "`<tag>` elements have key/value attributes called **`@k`** and  **`@v`** respectively, describing characteristics about the parent element.<br>"
   ]
  },
  {
   "cell_type": "markdown",
   "metadata": {},
   "source": [
    "***\n",
    "## 2. Data Overview\n",
    "<p>\n",
    "The first step in our project is to analyze our file to check its structure and gather basic information. For example, which and how many tag types there are. In Openstreetmap case there's a dictionary available at their website, but that's not always the case. It's also necessary to check for unexpected tags which may need to be fixed.\n",
    "***"
   ]
  },
  {
   "cell_type": "markdown",
   "metadata": {},
   "source": [
    "#### 2.1 File Size"
   ]
  },
  {
   "cell_type": "markdown",
   "metadata": {},
   "source": [
    "**Full datasets (not submitted):**<br>\n",
    "rio-de-janeiro_brazil.osm --------------------- 353.2 MB<br>\n",
    "rio_de_janeiro.db ------------------------------ 250.5 MB<p>\n",
    "\n",
    "**Sample datasets:**<br>\n",
    "rio-de-janeiro_brazil_sample.osm ------------- 35.6 MB<br>\n",
    "rio_de_janeiro_sample.db ---------------------- 24.9 MB\n"
   ]
  },
  {
   "cell_type": "markdown",
   "metadata": {},
   "source": [
    "#### 2.2 - Number of Unique Tags: \n",
    "Source code: [mapparser.py](mapparser.py)\n",
    "\n",
    "- `<bounds>`: 1\n",
    "- `<member>`: 25.291\n",
    "- `<nd>`: 2.015.603\n",
    "- `<node>`: 1.615.351\n",
    "- `<osm>`: 1\n",
    "- `<relation>`: 4.178\n",
    "- `<tag>`: 627.853\n",
    "- `<way>`: 193.769\n",
    "\n",
    "\n",
    "#### 2.3 - Patterns: \n",
    "Source code: [tags.py](tags.py)\n",
    "\n",
    "The `<tag>` tags contain key/value pairs named 'k' and 'v' respectively. \n",
    "The aim here was to explore the 'k' value for patterns and potential problems.\n",
    "We used regular expressions to categorize the tags in four groups and count them.\n",
    "\n",
    "- 'lower': 559.334 tags that contain only lowercase letters and are valid \n",
    "- 'lower_colon': 45.851 valid tags with a colon in their names\n",
    "- 'problemchars': 1 tag with problematic characters\n",
    "- 'other': 22.667 tags that do not fall into the other three categories\n",
    "\n",
    "\n",
    "#### 2.4 - Number of Contributors:\n",
    "Source code: [users.py](users.py) \n",
    "\n",
    "There are 1,396 unique contributing users in our database."
   ]
  },
  {
   "cell_type": "markdown",
   "metadata": {},
   "source": [
    "***\n",
    "## 3. Encountered Problems\n",
    "<p>\n",
    "***"
   ]
  },
  {
   "cell_type": "markdown",
   "metadata": {},
   "source": [
    "#### 3.1 - Street Type Inconsistencies:\n",
    "The most recurring problem found in the dataset was the way street types were written. To overcome the problem we used regular expressions (regex) at the first element of the string, to match Brazilian street type descriptions. \n",
    "\n",
    "Source code: [audit.py](audit.py)\n",
    "<p>\n",
    "We have found two types of errors:\n",
    "\n",
    "** 1 - Typos:** \n",
    "* Rue / Ruas => Rua\n",
    "* Praca => Praça\n",
    "<br>\n",
    "\n",
    "** 2 - Abbreviations:** \n",
    "* R / R. => Rua\n",
    "* Est / Estr => Estrada\n",
    "* Av / Av. => Avenida\n",
    "* Trav => Travessa\n",
    "* Rod / Rod. => Rodovia\n",
    "* Pca / Pça => Praça"
   ]
  },
  {
   "cell_type": "markdown",
   "metadata": {},
   "source": [
    "#### 3.2 - ZIP Code Inconsistencies:\n",
    "We modified the previous street type code to check for inconsistencies in ZIP codes.<p>\n",
    "\n",
    "Brazilian ZIP code structure can be found [here](https://www.correios.com.br/para-voce/precisa-de-ajuda/o-que-e-cep-e-por-que-usa-lo/estrutura-do-cep). Although it's in Portuguese, the important aspects to keep in mind are:<br>\n",
    "* The first digit must be '2' for Rio de Janeiro.\n",
    "* The ZIP code must be 8 numbers long, with a dash after the 5th digit (2XXXX-XXX). \n",
    "\n",
    "The main problems found were:\n",
    "* No minus sign '-', only integers. It was the most common problem found. It's understandable, many people write it that way.\n",
    "* Odd characters, like backslashes, blank spaces and dots ('\\', '.', ' ')\n",
    "* Only 2 ZIP codes not starting with '2'\n",
    "* ZIP codes with 5 numerical digits. The last 3 digits were added about 10 years ago and some sources still don't reflect the fact.\n",
    "\n",
    "<p>\n",
    "Source code: [audit_zipcodes.py](audit_zipcodes.py)<p>"
   ]
  },
  {
   "cell_type": "markdown",
   "metadata": {},
   "source": [
    "***\n",
    "## 4. XML to SQL Import\n",
    "***"
   ]
  },
  {
   "cell_type": "markdown",
   "metadata": {},
   "source": [
    "After auditing our data, we import them to our SQL database:\n",
    "\n",
    ">**Step 1**: Fix the problems found while transforming the OSM file into tabular CSV files.\n",
    "Source code: [data.py](data.py)\n",
    "\n",
    ">**Step 2**: Import the CSV files to our SQL database.\n",
    "Source code: [database.py](database.py)\n",
    "\n",
    "We've chosen SQLite as our database manager for being light and independent of a client/server architecture.\n",
    "\n",
    "\n",
    "\n",
    "\n"
   ]
  },
  {
   "cell_type": "markdown",
   "metadata": {},
   "source": [
    "***\n",
    "## 5. Basic Descriptive Statistics and Sanity Checks\n",
    "<p>\n",
    "***"
   ]
  },
  {
   "cell_type": "code",
   "execution_count": 1,
   "metadata": {
    "collapsed": false
   },
   "outputs": [],
   "source": [
    "import sqlite3\n",
    "import pprint\n",
    "\n",
    "# Connecting to our database\n",
    "db = sqlite3.connect(\"rio_de_janeiro.db\")\n",
    "cur = db.cursor()"
   ]
  },
  {
   "cell_type": "markdown",
   "metadata": {},
   "source": [
    "### 5.1 Number of Nodes and Ways\n",
    "<p>\n",
    "**Do we have the same number of nodes and ways as in our original osm file?  **"
   ]
  },
  {
   "cell_type": "code",
   "execution_count": 2,
   "metadata": {
    "collapsed": false
   },
   "outputs": [
    {
     "name": "stdout",
     "output_type": "stream",
     "text": [
      "number of nodes: 1615351\n"
     ]
    }
   ],
   "source": [
    "nodes_count = cur.execute('SELECT count(*) FROM nodes')\n",
    "\n",
    "print \"number of nodes:\", nodes_count.fetchone()[0]"
   ]
  },
  {
   "cell_type": "code",
   "execution_count": 3,
   "metadata": {
    "collapsed": false
   },
   "outputs": [
    {
     "name": "stdout",
     "output_type": "stream",
     "text": [
      "number of ways: 193769\n"
     ]
    }
   ],
   "source": [
    "ways_count = cur.execute('SELECT count(*) FROM ways')\n",
    "\n",
    "print \"number of ways:\", ways_count.fetchone()[0]"
   ]
  },
  {
   "cell_type": "markdown",
   "metadata": {},
   "source": [
    "Recapturing the results from 2.2 (Number of Unique Tags):\n",
    "\n",
    ">{'bounds': 1,\n",
    " 'member': 25291,\n",
    " 'nd': 2015603,\n",
    " **'node': 1615351,**\n",
    " 'osm': 1,\n",
    " 'relation': 4178,\n",
    " 'tag': 627853,\n",
    " **'way': 193769**}\n",
    "\n",
    "**The import was sucessful. Both OSM and SQL files have the same number of nodes and ways.**"
   ]
  },
  {
   "cell_type": "markdown",
   "metadata": {},
   "source": [
    "### 5.2 Correspondence between `ways_nodes` and `nodes` tables\n",
    "<p>\n",
    "Do all `node_id` in `ways_nodes` table have a correspondence in `nodes` table?\n",
    "<p>\n",
    "Note: 'OUTER JOIN' not supported in SQLite."
   ]
  },
  {
   "cell_type": "code",
   "execution_count": 4,
   "metadata": {
    "collapsed": false
   },
   "outputs": [
    {
     "name": "stdout",
     "output_type": "stream",
     "text": [
      "[]\n"
     ]
    }
   ],
   "source": [
    "outer_join = cur.execute('''\n",
    "SELECT\n",
    "    ways_nodes.node_id AS missing_node_id,\n",
    "    nodes.id AS null_id,\n",
    "    count(*) AS qty\n",
    "FROM \n",
    "    ways_nodes\n",
    "    LEFT JOIN nodes ON ways_nodes.node_id = nodes.id\n",
    "WHERE \n",
    "    null_id IS NULL\n",
    "GROUP BY\n",
    "    missing_node_id\n",
    "''')\n",
    "\n",
    "pprint.pprint(outer_join.fetchall())"
   ]
  },
  {
   "cell_type": "markdown",
   "metadata": {},
   "source": [
    "**OK! All `node_id` are filled with existing IDs in `nodes` table as expected.  **"
   ]
  },
  {
   "cell_type": "markdown",
   "metadata": {},
   "source": [
    "### 5.3 Number of `tag` elements in `node` elements "
   ]
  },
  {
   "cell_type": "code",
   "execution_count": 5,
   "metadata": {
    "collapsed": false
   },
   "outputs": [
    {
     "name": "stdout",
     "output_type": "stream",
     "text": [
      "[(52681,)]\n"
     ]
    }
   ],
   "source": [
    "count_distinct = cur.execute('''\n",
    "SELECT\n",
    "    count(DISTINCT nodes_tags.id) AS distinct_qty\n",
    "FROM \n",
    "    nodes_tags JOIN nodes ON nodes_tags.id = nodes.id\n",
    "''')\n",
    "\n",
    "pprint.pprint(count_distinct.fetchall())"
   ]
  },
  {
   "cell_type": "markdown",
   "metadata": {},
   "source": [
    "**Total `node` elements**: 1,615,351<br>\n",
    "**`node` elements with `tag` elements**: 52,681\n",
    "\n",
    "**Only 3.2% of all `node` elements have `tag` elements**"
   ]
  },
  {
   "cell_type": "markdown",
   "metadata": {},
   "source": [
    "### 5.4 Number of `tag` elements in `way` elements"
   ]
  },
  {
   "cell_type": "code",
   "execution_count": 6,
   "metadata": {
    "collapsed": false
   },
   "outputs": [
    {
     "name": "stdout",
     "output_type": "stream",
     "text": [
      "[(189054,)]\n"
     ]
    }
   ],
   "source": [
    "count_distinct = cur.execute('''\n",
    "SELECT\n",
    "    count(DISTINCT ways_tags.id) AS distinct_qty\n",
    "FROM \n",
    "    ways_tags JOIN ways ON ways_tags.id = ways.id\n",
    "''')\n",
    "\n",
    "pprint.pprint(count_distinct.fetchall())"
   ]
  },
  {
   "cell_type": "markdown",
   "metadata": {},
   "source": [
    "**Total `way` elements**: 193,769<br>\n",
    "**`way` elements with `tag` elements**: 189,054\n",
    "\n",
    "**98% of all `way` elements have `tag` elements. <br>\n",
    "It's a huge difference when compared to `node` elements!**"
   ]
  },
  {
   "cell_type": "markdown",
   "metadata": {},
   "source": [
    "### 5.5 Validating `node` elements"
   ]
  },
  {
   "cell_type": "code",
   "execution_count": 7,
   "metadata": {
    "collapsed": false
   },
   "outputs": [
    {
     "name": "stdout",
     "output_type": "stream",
     "text": [
      "[(u'regular', 107791),\n",
      " (u'addr', 28232),\n",
      " (u'seamark', 715),\n",
      " (u'name', 494),\n",
      " (u'traffic_signals', 396),\n",
      " (u'payment', 250),\n",
      " (u'pt', 220),\n",
      " (u'tower', 139),\n",
      " (u'is_in', 116),\n",
      " (u'decreto', 96)]\n"
     ]
    }
   ],
   "source": [
    "node_key_types = cur.execute('''\n",
    "SELECT\n",
    "    type,\n",
    "    count(*) AS qty\n",
    "FROM \n",
    "    nodes_tags\n",
    "GROUP BY\n",
    "    type\n",
    "ORDER BY\n",
    "    qty DESC\n",
    "LIMIT 10\n",
    "''')\n",
    "\n",
    "pprint.pprint(node_key_types.fetchall())"
   ]
  },
  {
   "cell_type": "markdown",
   "metadata": {},
   "source": [
    "** The types, with irrelevant exceptions, are ok for static elements like nodes.**<p>\n",
    "** What about 'regular' type? What are the 'key' contents?**"
   ]
  },
  {
   "cell_type": "code",
   "execution_count": 8,
   "metadata": {
    "collapsed": false
   },
   "outputs": [
    {
     "name": "stdout",
     "output_type": "stream",
     "text": [
      "[(u'regular', u'name', 13018),\n",
      " (u'regular', u'source', 12268),\n",
      " (u'regular', u'highway', 11153),\n",
      " (u'regular', u'amenity', 10307),\n",
      " (u'regular', u'power', 5584),\n",
      " (u'regular', u'natural', 4564),\n",
      " (u'regular', u'shop', 3075),\n",
      " (u'regular', u'crossing', 2299),\n",
      " (u'regular', u'capacity', 1745),\n",
      " (u'regular', u'phone', 1667)]\n"
     ]
    }
   ],
   "source": [
    "regular_keys = cur.execute('''\n",
    "SELECT\n",
    "    type,\n",
    "    key,\n",
    "    count(*) AS qty\n",
    "FROM \n",
    "    nodes_tags\n",
    "WHERE\n",
    "    type='regular'\n",
    "GROUP BY\n",
    "    type,\n",
    "    key\n",
    "ORDER BY\n",
    "    qty DESC\n",
    "LIMIT 10\n",
    "''')\n",
    "\n",
    "pprint.pprint(regular_keys.fetchall())"
   ]
  },
  {
   "cell_type": "markdown",
   "metadata": {},
   "source": [
    "** The 'regular' type keys show some unexpected values, like 'highway' for instance. Let's check 'highway' values.**"
   ]
  },
  {
   "cell_type": "code",
   "execution_count": 9,
   "metadata": {
    "collapsed": false
   },
   "outputs": [
    {
     "name": "stdout",
     "output_type": "stream",
     "text": [
      "[(u'regular', u'highway', u'traffic_signals', 4071),\n",
      " (u'regular', u'highway', u'crossing', 2935),\n",
      " (u'regular', u'highway', u'bus_stop', 1508),\n",
      " (u'regular', u'highway', u'turning_circle', 1375),\n",
      " (u'regular', u'highway', u'stop', 391),\n",
      " (u'regular', u'highway', u'speed_camera', 310),\n",
      " (u'regular', u'highway', u'mini_roundabout', 184),\n",
      " (u'regular', u'highway', u'street_lamp', 140),\n",
      " (u'regular', u'highway', u'motorway_junction', 100),\n",
      " (u'regular', u'highway', u'give_way', 82)]\n"
     ]
    }
   ],
   "source": [
    "node_key_types = cur.execute('''\n",
    "SELECT\n",
    "    type,\n",
    "    key,\n",
    "    value,\n",
    "    count(*) AS qty\n",
    "FROM \n",
    "    nodes_tags\n",
    "WHERE\n",
    "    type='regular' and key='highway'\n",
    "GROUP BY\n",
    "    type,\n",
    "    key,\n",
    "    value\n",
    "ORDER BY\n",
    "    qty DESC\n",
    "LIMIT 10\n",
    "''')\n",
    "\n",
    "pprint.pprint(node_key_types.fetchall())"
   ]
  },
  {
   "cell_type": "markdown",
   "metadata": {},
   "source": [
    "** The 'highway' values are static indeed, so I consider node elements validated as a whole**. "
   ]
  },
  {
   "cell_type": "markdown",
   "metadata": {},
   "source": [
    "### 5.5 Validating `way` elements"
   ]
  },
  {
   "cell_type": "code",
   "execution_count": 10,
   "metadata": {
    "collapsed": false
   },
   "outputs": [
    {
     "name": "stdout",
     "output_type": "stream",
     "text": [
      "[(u'regular', u'highway', 113203),\n",
      " (u'regular', u'name', 55168),\n",
      " (u'regular', u'building', 52740),\n",
      " (u'regular', u'height', 33709),\n",
      " (u'regular', u'source', 33142),\n",
      " (u'regular', u'ele', 29514),\n",
      " (u'regular', u'oneway', 22422),\n",
      " (u'regular', u'top_ele', 17895),\n",
      " (u'regular', u'surface', 13761),\n",
      " (u'regular', u'layer', 6286)]\n"
     ]
    }
   ],
   "source": [
    "way_key_types_regular = cur.execute('''\n",
    "SELECT\n",
    "    type,\n",
    "    key,\n",
    "    count(*) AS qty\n",
    "FROM \n",
    "    ways_tags\n",
    "WHERE\n",
    "    type='regular'\n",
    "GROUP BY\n",
    "    type,\n",
    "    key\n",
    "ORDER BY\n",
    "    qty DESC\n",
    "LIMIT 10  \n",
    "''')\n",
    "\n",
    "pprint.pprint(way_key_types_regular.fetchall())"
   ]
  },
  {
   "cell_type": "code",
   "execution_count": 11,
   "metadata": {
    "collapsed": false
   },
   "outputs": [
    {
     "name": "stdout",
     "output_type": "stream",
     "text": [
      "[(u'addr', u'street', 2167),\n",
      " (u'addr', u'interpolation', 1714),\n",
      " (u'addr', u'housenumber', 1629),\n",
      " (u'addr', u'inclusion', 1450),\n",
      " (u'addr', u'city', 1412),\n",
      " (u'building', u'levels', 1280),\n",
      " (u'addr', u'postcode', 1007),\n",
      " (u'addr', u'suburb', 747),\n",
      " (u'addr', u'country', 233),\n",
      " (u'turn', u'lanes', 212)]\n"
     ]
    }
   ],
   "source": [
    "way_key_types_not_regular = cur.execute('''\n",
    "SELECT\n",
    "    type,\n",
    "    key,\n",
    "    count(*) AS qty\n",
    "FROM \n",
    "    ways_tags\n",
    "WHERE\n",
    "    type!='regular'\n",
    "GROUP BY\n",
    "    type,\n",
    "    key\n",
    "ORDER BY\n",
    "    qty DESC\n",
    "LIMIT 10  \n",
    "''')\n",
    "\n",
    "pprint.pprint(way_key_types_not_regular.fetchall())"
   ]
  },
  {
   "cell_type": "markdown",
   "metadata": {},
   "source": [
    "**The most common 'way' keys are, as expected, related to \"path\" features: highway, height, oneway, lanes, bridge, access, maxspeed, etc.**\n",
    "<p>\n",
    "**But some very common ones are normally associated with static elements, which would probably fit better in nodes: building, housenumber, postcode, phone, religion, etc.**"
   ]
  },
  {
   "cell_type": "markdown",
   "metadata": {},
   "source": [
    "***\n",
    "## 6. Data Analysis\n",
    "<p>\n",
    "***"
   ]
  },
  {
   "cell_type": "markdown",
   "metadata": {},
   "source": [
    "### 6.1 Top 10 Contributing Users"
   ]
  },
  {
   "cell_type": "code",
   "execution_count": 12,
   "metadata": {
    "collapsed": false
   },
   "outputs": [
    {
     "name": "stdout",
     "output_type": "stream",
     "text": [
      "Top 10 Users:\n",
      "[(u'Alexandrecw', 373474),\n",
      " (u'smaprs_import', 185068),\n",
      " (u'ThiagoPv', 184319),\n",
      " (u'AlNo', 163244),\n",
      " (u'Import Rio', 84927),\n",
      " (u'Geaquinto', 69218),\n",
      " (u'Nighto', 64816),\n",
      " (u'Ricardo Mitidieri', 58544),\n",
      " (u'Thundercel', 54138),\n",
      " (u'M\\xe1rcio V\\xedn\\xedcius Pinheiro', 37055)]\n"
     ]
    }
   ],
   "source": [
    "top_users = cur.execute('''\n",
    "SELECT \n",
    "    joined_tables.user,\n",
    "    COUNT(*) AS count\n",
    "FROM \n",
    "    (\n",
    "    SELECT user FROM nodes \n",
    "    UNION ALL\n",
    "    SELECT user FROM ways\n",
    "    )\n",
    "    joined_tables\n",
    "GROUP BY\n",
    "    joined_tables.user\n",
    "ORDER BY count DESC\n",
    "LIMIT 10\n",
    "''')\n",
    "\n",
    "print \"Top 10 Users:\"\n",
    "pprint.pprint(top_users.fetchall())"
   ]
  },
  {
   "cell_type": "markdown",
   "metadata": {},
   "source": [
    "### 6.2 Top 10 Amenities"
   ]
  },
  {
   "cell_type": "code",
   "execution_count": 13,
   "metadata": {
    "collapsed": false
   },
   "outputs": [
    {
     "name": "stdout",
     "output_type": "stream",
     "text": [
      "[(u'school', 1554),\n",
      " (u'bicycle_parking', 1475),\n",
      " (u'restaurant', 1040),\n",
      " (u'fast_food', 821),\n",
      " (u'bank', 498),\n",
      " (u'fuel', 455),\n",
      " (u'place_of_worship', 400),\n",
      " (u'pub', 391),\n",
      " (u'telephone', 374),\n",
      " (u'pharmacy', 353)]\n"
     ]
    }
   ],
   "source": [
    "top_ammenities = cur.execute('''\n",
    "SELECT \n",
    "    value,\n",
    "    COUNT(*) as count\n",
    "FROM \n",
    "    nodes_tags\n",
    "WHERE \n",
    "    key=\"amenity\"\n",
    "GROUP BY\n",
    "    value\n",
    "ORDER BY \n",
    "    count DESC\n",
    "LIMIT 10\n",
    "''')\n",
    "\n",
    "pprint.pprint(top_ammenities.fetchall())"
   ]
  },
  {
   "cell_type": "markdown",
   "metadata": {},
   "source": [
    "### 6.3 Streets with Higher Concentration of Restaurants and Fast-Foods"
   ]
  },
  {
   "cell_type": "code",
   "execution_count": 14,
   "metadata": {
    "collapsed": false
   },
   "outputs": [
    {
     "name": "stdout",
     "output_type": "stream",
     "text": [
      "[(u'street', u'Rua Da Concei\\xe7\\xe3o', 9),\n",
      " (u'street', u'Rua Do Catete', 4),\n",
      " (u'street', u'Rua Barata Ribeiro', 3),\n",
      " (u'street', u'Rua Das Laranjeiras', 2),\n",
      " (u'street', u'Avenida Prado Junior', 1),\n",
      " (u'street', u'Rua Da Quitanda', 1),\n",
      " (u'street', u'Rua Professor \\xc1lvaro Ramos', 1),\n",
      " (u'street', u'Travessa Dos Tamoios', 1)]\n"
     ]
    }
   ],
   "source": [
    "restaurant_streets = cur.execute('''\n",
    "SELECT \n",
    "    ways_tags.key,\n",
    "    ways_tags.value,\n",
    "    COUNT(*) AS qty_restaurants \n",
    "FROM \n",
    "    ways_nodes \n",
    "        JOIN ways_tags ON ways_tags.id = ways_nodes.id\n",
    "        JOIN nodes_tags ON nodes_tags.id = ways_nodes.node_id\n",
    "WHERE \n",
    "    ways_tags.key = \"street\" AND\n",
    "    nodes_tags.key=\"amenity\" AND\n",
    "    (nodes_tags.value = 'restaurant' OR nodes_tags.value = 'fast_food')\n",
    "GROUP BY\n",
    "    ways_tags.key,\n",
    "    ways_tags.value\n",
    "ORDER BY qty_restaurants DESC\n",
    "LIMIT 10\n",
    "''')\n",
    "\n",
    "pprint.pprint(restaurant_streets.fetchall())"
   ]
  },
  {
   "cell_type": "markdown",
   "metadata": {},
   "source": [
    "** This result is very disapointing. There are 2167 streets, 1040 restaurants and 821 fast-foods in Rio's OpenStreet map.**<br>\n",
    "Obviously there are many more streets with lots of restaurants, but they don't appear together with street names. "
   ]
  },
  {
   "cell_type": "markdown",
   "metadata": {},
   "source": [
    "### 6.4 Biggest Religions by Number of Temples"
   ]
  },
  {
   "cell_type": "code",
   "execution_count": 15,
   "metadata": {
    "collapsed": false
   },
   "outputs": [
    {
     "name": "stdout",
     "output_type": "stream",
     "text": [
      "[(u'christian', 343), (u'spiritualist', 6), (u'jewish', 5)]\n"
     ]
    }
   ],
   "source": [
    "biggest_religion = cur.execute('''\n",
    "SELECT \n",
    "    nodes_tags.value, \n",
    "    COUNT(*) as count\n",
    "FROM \n",
    "    nodes_tags\n",
    "        JOIN\n",
    "        (\n",
    "        SELECT\n",
    "            DISTINCT(id)\n",
    "        FROM\n",
    "            nodes_tags\n",
    "        WHERE \n",
    "            value=\"place_of_worship\"\n",
    "        ) i ON nodes_tags.id=i.id\n",
    "WHERE\n",
    "    nodes_tags.key=\"religion\"\n",
    "GROUP BY \n",
    "    nodes_tags.value\n",
    "ORDER BY count DESC\n",
    "LIMIT 3\n",
    "''')\n",
    "\n",
    "pprint.pprint(biggest_religion.fetchall())"
   ]
  },
  {
   "cell_type": "markdown",
   "metadata": {},
   "source": [
    "#### 6.6 Popular Cuisines"
   ]
  },
  {
   "cell_type": "code",
   "execution_count": 16,
   "metadata": {
    "collapsed": false
   },
   "outputs": [
    {
     "name": "stdout",
     "output_type": "stream",
     "text": [
      "[(u'pizza', 82),\n",
      " (u'regional', 75),\n",
      " (u'italian', 38),\n",
      " (u'japanese', 36),\n",
      " (u'brazilian', 20),\n",
      " (u'steak_house', 16),\n",
      " (u'barbecue', 13),\n",
      " (u'international', 11),\n",
      " (u'chinese', 8),\n",
      " (u'seafood', 8)]\n"
     ]
    }
   ],
   "source": [
    "popular_cuisines = cur.execute('''\n",
    "SELECT \n",
    "    nodes_tags.value, \n",
    "    COUNT(*) as count\n",
    "FROM \n",
    "    nodes_tags\n",
    "        JOIN\n",
    "        (\n",
    "        SELECT\n",
    "            DISTINCT(id)\n",
    "        FROM\n",
    "            nodes_tags\n",
    "        WHERE \n",
    "            value=\"restaurant\"\n",
    "        ) i ON nodes_tags.id=i.id\n",
    "WHERE\n",
    "    nodes_tags.key=\"cuisine\"\n",
    "GROUP BY \n",
    "    nodes_tags.value\n",
    "ORDER BY count DESC\n",
    "LIMIT 10\n",
    "''')\n",
    "\n",
    "\n",
    "pprint.pprint(popular_cuisines.fetchall())"
   ]
  },
  {
   "cell_type": "markdown",
   "metadata": {},
   "source": [
    "***\n",
    "## 7. Conclusion\n",
    "***"
   ]
  },
  {
   "cell_type": "markdown",
   "metadata": {},
   "source": [
    "Data about Rio de Janeiro encompasses a larger area beyond its political limits, known as \"Rio de Janeiro Metropolitan Area\".<p>\n",
    "\n",
    "The existing data is of a fair quality for an open source and often manually inputted data, although some 'static' elements, which should fit well in `<node>` elements, were found in `<way>` elements. To a reasonable extent the work done in this project to clean the data was well performed, but there should be a way to prevent users from inserting the most common typos. <p>\n",
    "\n",
    "A particular problem found during the wrangling phase could not be fixed: the lack of information about `<node>` elements, with only 3% of them containing `<tag>` elements. For a successful fix, external data with lat/long coordinates should be used to feed our map. Unfortunately, there isn't such database freely available at the present time.<p>\n",
    "\n",
    "The lack of information on `<node>` elements could be associated to the fact that many of them only exist as reference to `<way>` elements, indicating the orderly \"dots\" (static locations) along a path.\n",
    "But this wouldn't explain the lack of information about restaurants in a city with 6 Million inhabitants. The largest concentration points to only 9 restaurants on the same street, while the second position has only 4 of them. There is clearly a problem of poor POI (points of interest) coverage. "
   ]
  },
  {
   "cell_type": "markdown",
   "metadata": {
    "collapsed": true
   },
   "source": [
    "### Suggestions and Ideas\n",
    "\n",
    "The opportunities to improve the map are endless, below are a few of them:\n",
    "\n",
    "###### 1 - Facilitate user collaboration\n",
    "It should be simple and straightforward for users to collaborate on the go, making it a live interaction. With thousands or millions of users reporting outdated, missing or misplaced information as they use the map, it can be up to date more often than not. The more the project depends on \"super users\" to upload information, the greatest are the chances of the map being misleading. The more accurate, the more users it will attract, creating a virtuous cycle.   \n",
    "\n",
    "###### 2 - GPS Data from Public or Partner Sources  \n",
    "Batch importing public GPS information into the map would significantly improve it, bringing more people to visit and contribute to it. Another possibility is to find private partners willing to further develop the solution by providing data in exchange for some sort of advanced privileges or rights. Examples of such sources are parcel services and government bodies related to transport, business or tourism sectors.  \n",
    "\n",
    "###### 3 - Predefined Values\n",
    "To avoid typos, lowercase/uppercase, language and other problems, the 'k' tags could be globally curated and get it's own id. Those not in the list (which could also not be fixed into one of the predefined categories by wrangling) would go into an 'other' category. This way tag names would be standardized from the start, not allowing users to freely input whatever name they wish. Those contributors willing to improve the map would focus on the 'other' category or on new data.\n",
    "\n",
    "###### 4 - Language Synonyms\n",
    "Language synonyms could be placed in another tag to be created, using a new 'id' reference. This is easy after standardizing the 'k' tag values. This way, tourists would be able to find landmarks and ways using their mother language. \n",
    "\n",
    "###### 5 - Automated cleaning of existing records\n",
    "There should be an effort to batch clean existing map data using a bot, while also avoiding the input of typos and other errors by users (for example by the use of predefined values, as explained above). "
   ]
  },
  {
   "cell_type": "markdown",
   "metadata": {},
   "source": [
    "<p>\n",
    "With these simple measures, OpenStreetMap could better compete with solutions offered by Google (Google Maps) and Microsoft (Bing), which are at the present more complete and user friendly."
   ]
  }
 ],
 "metadata": {
  "anaconda-cloud": {},
  "kernelspec": {
   "display_name": "Python [default]",
   "language": "python",
   "name": "python2"
  },
  "language_info": {
   "codemirror_mode": {
    "name": "ipython",
    "version": 2
   },
   "file_extension": ".py",
   "mimetype": "text/x-python",
   "name": "python",
   "nbconvert_exporter": "python",
   "pygments_lexer": "ipython2",
   "version": "2.7.12"
  }
 },
 "nbformat": 4,
 "nbformat_minor": 1
}
